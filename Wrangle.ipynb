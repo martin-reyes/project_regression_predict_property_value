{
 "cells": [
  {
   "cell_type": "markdown",
   "id": "ce22363b",
   "metadata": {},
   "source": [
    "# Acquire"
   ]
  },
  {
   "cell_type": "markdown",
   "id": "4139d4a3",
   "metadata": {},
   "source": [
    "- predict the property tax assessed values ('taxvaluedollarcnt') of Single Family Properties that had a transaction during 2017"
   ]
  },
  {
   "cell_type": "code",
   "execution_count": 1,
   "id": "f9e75588",
   "metadata": {},
   "outputs": [],
   "source": [
    "import sys\n",
    "import os\n",
    "home_directory_path = os.path.expanduser('~')\n",
    "sys.path.append(home_directory_path +'/utils')\n",
    "import acquire_utils\n",
    "from prepare_utils import identify_cols_with_white_space\n",
    "import explore_utils\n",
    "\n",
    "import pandas as pd\n",
    "pd.set_option('display.max_columns', 100)\n",
    "\n",
    "import matplotlib.pyplot as plt\n",
    "import seaborn as sns"
   ]
  },
  {
   "cell_type": "code",
   "execution_count": 2,
   "id": "400209e7",
   "metadata": {},
   "outputs": [],
   "source": [
    "import pandas as pd\n",
    "import env\n",
    "import os\n",
    "\n",
    "\n",
    "def get_connection(db, user=env.user, host=env.host, password=env.pwd):\n",
    "    return f'mysql+pymysql://{user}:{password}@{host}/{db}'\n",
    "    \n",
    "\n",
    "def get_sql_data(sql_query, db, filename):\n",
    "    '''\n",
    "    If the csv file exists, it is read and returned as a pandas DataFrame\n",
    "    If not, pandas reads in a SQL query that acquires telco customer data from a MySQL database.\n",
    "    The query is stored into a DataFrame, saved, and returned.\n",
    "    '''\n",
    "    # Read the SQL query into a dataframe\n",
    "    df = pd.read_sql(sql_query,\n",
    "                        get_connection(db))\n",
    "    # Write that DataFrame for prep\n",
    "    df.to_csv(filename, index=False)\n",
    "    # Return the DataFrame\n",
    "    return df"
   ]
  },
  {
   "cell_type": "code",
   "execution_count": 3,
   "id": "7b1861d6",
   "metadata": {},
   "outputs": [],
   "source": [
    "query = '''\n",
    "        SELECT p.parcelid, p.id, p.bathroomcnt, p.bedroomcnt, p.calculatedbathnbr,\n",
    "                p.calculatedfinishedsquarefeet, p.fips, p.fullbathcnt,\n",
    "                p.latitude, p.longitude, p.roomcnt,  p.numberofstories, p.yearbuilt,\n",
    "                p.regionidcity, p.regionidcounty, p.regionidneighborhood,\n",
    "                p.regionidzip, p.taxvaluedollarcnt, pred.transactiondate\n",
    "        FROM zillow.properties_2017 AS p\n",
    "            JOIN zillow.predictions_2017 AS pred USING (parcelid)\n",
    "        WHERE (p.propertylandusetypeid IN (261, 262, 263, 264, 279));\n",
    "        '''\n",
    "db = 'zillow'\n",
    "filename = 'data/zillow_raw.csv'\n",
    "\n",
    "df = get_sql_data(query, db, filename)"
   ]
  },
  {
   "cell_type": "markdown",
   "id": "0d441207",
   "metadata": {},
   "source": [
    "I want to inspect values and their counts and note any oddities and insights (not EDA)"
   ]
  },
  {
   "cell_type": "code",
   "execution_count": 4,
   "id": "58223fb8",
   "metadata": {},
   "outputs": [
    {
     "name": "stdout",
     "output_type": "stream",
     "text": [
      "<class 'pandas.core.frame.DataFrame'>\n",
      "RangeIndex: 52522 entries, 0 to 52521\n",
      "Data columns (total 19 columns):\n",
      " #   Column                        Non-Null Count  Dtype  \n",
      "---  ------                        --------------  -----  \n",
      " 0   parcelid                      52522 non-null  int64  \n",
      " 1   id                            52522 non-null  int64  \n",
      " 2   bathroomcnt                   52522 non-null  float64\n",
      " 3   bedroomcnt                    52522 non-null  float64\n",
      " 4   calculatedbathnbr             52371 non-null  float64\n",
      " 5   calculatedfinishedsquarefeet  52427 non-null  float64\n",
      " 6   fips                          52522 non-null  float64\n",
      " 7   fullbathcnt                   52371 non-null  float64\n",
      " 8   latitude                      52522 non-null  float64\n",
      " 9   longitude                     52522 non-null  float64\n",
      " 10  roomcnt                       52522 non-null  float64\n",
      " 11  numberofstories               14568 non-null  float64\n",
      " 12  yearbuilt                     52393 non-null  float64\n",
      " 13  regionidcity                  51485 non-null  float64\n",
      " 14  regionidcounty                52522 non-null  float64\n",
      " 15  regionidneighborhood          19042 non-null  float64\n",
      " 16  regionidzip                   52496 non-null  float64\n",
      " 17  taxvaluedollarcnt             52521 non-null  float64\n",
      " 18  transactiondate               52522 non-null  object \n",
      "dtypes: float64(16), int64(2), object(1)\n",
      "memory usage: 7.6+ MB\n"
     ]
    },
    {
     "data": {
      "text/plain": [
       "None"
      ]
     },
     "metadata": {},
     "output_type": "display_data"
    },
    {
     "data": {
      "text/html": [
       "<div>\n",
       "<style scoped>\n",
       "    .dataframe tbody tr th:only-of-type {\n",
       "        vertical-align: middle;\n",
       "    }\n",
       "\n",
       "    .dataframe tbody tr th {\n",
       "        vertical-align: top;\n",
       "    }\n",
       "\n",
       "    .dataframe thead th {\n",
       "        text-align: right;\n",
       "    }\n",
       "</style>\n",
       "<table border=\"1\" class=\"dataframe\">\n",
       "  <thead>\n",
       "    <tr style=\"text-align: right;\">\n",
       "      <th></th>\n",
       "      <th>parcelid</th>\n",
       "      <th>id</th>\n",
       "      <th>bathroomcnt</th>\n",
       "      <th>bedroomcnt</th>\n",
       "      <th>calculatedbathnbr</th>\n",
       "      <th>calculatedfinishedsquarefeet</th>\n",
       "      <th>fips</th>\n",
       "      <th>fullbathcnt</th>\n",
       "      <th>latitude</th>\n",
       "      <th>longitude</th>\n",
       "      <th>roomcnt</th>\n",
       "      <th>numberofstories</th>\n",
       "      <th>yearbuilt</th>\n",
       "      <th>regionidcity</th>\n",
       "      <th>regionidcounty</th>\n",
       "      <th>regionidneighborhood</th>\n",
       "      <th>regionidzip</th>\n",
       "      <th>taxvaluedollarcnt</th>\n",
       "      <th>transactiondate</th>\n",
       "    </tr>\n",
       "  </thead>\n",
       "  <tbody>\n",
       "    <tr>\n",
       "      <th>0</th>\n",
       "      <td>14297519</td>\n",
       "      <td>1727539</td>\n",
       "      <td>3.5</td>\n",
       "      <td>4.0</td>\n",
       "      <td>3.5</td>\n",
       "      <td>3100.0</td>\n",
       "      <td>6059.0</td>\n",
       "      <td>3.0</td>\n",
       "      <td>33634931.0</td>\n",
       "      <td>-117869207.0</td>\n",
       "      <td>0.0</td>\n",
       "      <td>NaN</td>\n",
       "      <td>1998.0</td>\n",
       "      <td>53571.0</td>\n",
       "      <td>1286.0</td>\n",
       "      <td>NaN</td>\n",
       "      <td>96978.0</td>\n",
       "      <td>1023282.0</td>\n",
       "      <td>2017-01-01</td>\n",
       "    </tr>\n",
       "    <tr>\n",
       "      <th>1</th>\n",
       "      <td>17052889</td>\n",
       "      <td>1387261</td>\n",
       "      <td>1.0</td>\n",
       "      <td>2.0</td>\n",
       "      <td>1.0</td>\n",
       "      <td>1465.0</td>\n",
       "      <td>6111.0</td>\n",
       "      <td>1.0</td>\n",
       "      <td>34449266.0</td>\n",
       "      <td>-119281531.0</td>\n",
       "      <td>5.0</td>\n",
       "      <td>1.0</td>\n",
       "      <td>1967.0</td>\n",
       "      <td>13091.0</td>\n",
       "      <td>2061.0</td>\n",
       "      <td>NaN</td>\n",
       "      <td>97099.0</td>\n",
       "      <td>464000.0</td>\n",
       "      <td>2017-01-01</td>\n",
       "    </tr>\n",
       "    <tr>\n",
       "      <th>2</th>\n",
       "      <td>14186244</td>\n",
       "      <td>11677</td>\n",
       "      <td>2.0</td>\n",
       "      <td>3.0</td>\n",
       "      <td>2.0</td>\n",
       "      <td>1243.0</td>\n",
       "      <td>6059.0</td>\n",
       "      <td>2.0</td>\n",
       "      <td>33886168.0</td>\n",
       "      <td>-117823170.0</td>\n",
       "      <td>6.0</td>\n",
       "      <td>1.0</td>\n",
       "      <td>1962.0</td>\n",
       "      <td>21412.0</td>\n",
       "      <td>1286.0</td>\n",
       "      <td>NaN</td>\n",
       "      <td>97078.0</td>\n",
       "      <td>564778.0</td>\n",
       "      <td>2017-01-01</td>\n",
       "    </tr>\n",
       "    <tr>\n",
       "      <th>3</th>\n",
       "      <td>12177905</td>\n",
       "      <td>2288172</td>\n",
       "      <td>3.0</td>\n",
       "      <td>4.0</td>\n",
       "      <td>3.0</td>\n",
       "      <td>2376.0</td>\n",
       "      <td>6037.0</td>\n",
       "      <td>3.0</td>\n",
       "      <td>34245180.0</td>\n",
       "      <td>-118240722.0</td>\n",
       "      <td>0.0</td>\n",
       "      <td>NaN</td>\n",
       "      <td>1970.0</td>\n",
       "      <td>396551.0</td>\n",
       "      <td>3101.0</td>\n",
       "      <td>NaN</td>\n",
       "      <td>96330.0</td>\n",
       "      <td>145143.0</td>\n",
       "      <td>2017-01-01</td>\n",
       "    </tr>\n",
       "    <tr>\n",
       "      <th>4</th>\n",
       "      <td>12095076</td>\n",
       "      <td>781532</td>\n",
       "      <td>3.0</td>\n",
       "      <td>4.0</td>\n",
       "      <td>3.0</td>\n",
       "      <td>2962.0</td>\n",
       "      <td>6037.0</td>\n",
       "      <td>3.0</td>\n",
       "      <td>34145202.0</td>\n",
       "      <td>-118179824.0</td>\n",
       "      <td>0.0</td>\n",
       "      <td>NaN</td>\n",
       "      <td>1950.0</td>\n",
       "      <td>47019.0</td>\n",
       "      <td>3101.0</td>\n",
       "      <td>274684.0</td>\n",
       "      <td>96293.0</td>\n",
       "      <td>773303.0</td>\n",
       "      <td>2017-01-01</td>\n",
       "    </tr>\n",
       "    <tr>\n",
       "      <th>5</th>\n",
       "      <td>12069064</td>\n",
       "      <td>870991</td>\n",
       "      <td>1.0</td>\n",
       "      <td>2.0</td>\n",
       "      <td>1.0</td>\n",
       "      <td>738.0</td>\n",
       "      <td>6037.0</td>\n",
       "      <td>1.0</td>\n",
       "      <td>34149214.0</td>\n",
       "      <td>-118239357.0</td>\n",
       "      <td>0.0</td>\n",
       "      <td>NaN</td>\n",
       "      <td>1922.0</td>\n",
       "      <td>45457.0</td>\n",
       "      <td>3101.0</td>\n",
       "      <td>276258.0</td>\n",
       "      <td>96325.0</td>\n",
       "      <td>218552.0</td>\n",
       "      <td>2017-01-01</td>\n",
       "    </tr>\n",
       "    <tr>\n",
       "      <th>6</th>\n",
       "      <td>12790562</td>\n",
       "      <td>1246926</td>\n",
       "      <td>3.0</td>\n",
       "      <td>4.0</td>\n",
       "      <td>3.0</td>\n",
       "      <td>3039.0</td>\n",
       "      <td>6037.0</td>\n",
       "      <td>3.0</td>\n",
       "      <td>33960230.0</td>\n",
       "      <td>-118006914.0</td>\n",
       "      <td>0.0</td>\n",
       "      <td>NaN</td>\n",
       "      <td>1970.0</td>\n",
       "      <td>14634.0</td>\n",
       "      <td>3101.0</td>\n",
       "      <td>NaN</td>\n",
       "      <td>96173.0</td>\n",
       "      <td>220583.0</td>\n",
       "      <td>2017-01-02</td>\n",
       "    </tr>\n",
       "    <tr>\n",
       "      <th>7</th>\n",
       "      <td>11104527</td>\n",
       "      <td>1639362</td>\n",
       "      <td>3.0</td>\n",
       "      <td>4.0</td>\n",
       "      <td>3.0</td>\n",
       "      <td>2540.0</td>\n",
       "      <td>6037.0</td>\n",
       "      <td>3.0</td>\n",
       "      <td>34434971.0</td>\n",
       "      <td>-118464390.0</td>\n",
       "      <td>0.0</td>\n",
       "      <td>NaN</td>\n",
       "      <td>1999.0</td>\n",
       "      <td>54311.0</td>\n",
       "      <td>3101.0</td>\n",
       "      <td>37739.0</td>\n",
       "      <td>96374.0</td>\n",
       "      <td>430108.0</td>\n",
       "      <td>2017-01-02</td>\n",
       "    </tr>\n",
       "  </tbody>\n",
       "</table>\n",
       "</div>"
      ],
      "text/plain": [
       "   parcelid       id  bathroomcnt  bedroomcnt  calculatedbathnbr  \\\n",
       "0  14297519  1727539          3.5         4.0                3.5   \n",
       "1  17052889  1387261          1.0         2.0                1.0   \n",
       "2  14186244    11677          2.0         3.0                2.0   \n",
       "3  12177905  2288172          3.0         4.0                3.0   \n",
       "4  12095076   781532          3.0         4.0                3.0   \n",
       "5  12069064   870991          1.0         2.0                1.0   \n",
       "6  12790562  1246926          3.0         4.0                3.0   \n",
       "7  11104527  1639362          3.0         4.0                3.0   \n",
       "\n",
       "   calculatedfinishedsquarefeet    fips  fullbathcnt    latitude    longitude  \\\n",
       "0                        3100.0  6059.0          3.0  33634931.0 -117869207.0   \n",
       "1                        1465.0  6111.0          1.0  34449266.0 -119281531.0   \n",
       "2                        1243.0  6059.0          2.0  33886168.0 -117823170.0   \n",
       "3                        2376.0  6037.0          3.0  34245180.0 -118240722.0   \n",
       "4                        2962.0  6037.0          3.0  34145202.0 -118179824.0   \n",
       "5                         738.0  6037.0          1.0  34149214.0 -118239357.0   \n",
       "6                        3039.0  6037.0          3.0  33960230.0 -118006914.0   \n",
       "7                        2540.0  6037.0          3.0  34434971.0 -118464390.0   \n",
       "\n",
       "   roomcnt  numberofstories  yearbuilt  regionidcity  regionidcounty  \\\n",
       "0      0.0              NaN     1998.0       53571.0          1286.0   \n",
       "1      5.0              1.0     1967.0       13091.0          2061.0   \n",
       "2      6.0              1.0     1962.0       21412.0          1286.0   \n",
       "3      0.0              NaN     1970.0      396551.0          3101.0   \n",
       "4      0.0              NaN     1950.0       47019.0          3101.0   \n",
       "5      0.0              NaN     1922.0       45457.0          3101.0   \n",
       "6      0.0              NaN     1970.0       14634.0          3101.0   \n",
       "7      0.0              NaN     1999.0       54311.0          3101.0   \n",
       "\n",
       "   regionidneighborhood  regionidzip  taxvaluedollarcnt transactiondate  \n",
       "0                   NaN      96978.0          1023282.0      2017-01-01  \n",
       "1                   NaN      97099.0           464000.0      2017-01-01  \n",
       "2                   NaN      97078.0           564778.0      2017-01-01  \n",
       "3                   NaN      96330.0           145143.0      2017-01-01  \n",
       "4              274684.0      96293.0           773303.0      2017-01-01  \n",
       "5              276258.0      96325.0           218552.0      2017-01-01  \n",
       "6                   NaN      96173.0           220583.0      2017-01-02  \n",
       "7               37739.0      96374.0           430108.0      2017-01-02  "
      ]
     },
     "metadata": {},
     "output_type": "display_data"
    },
    {
     "name": "stdout",
     "output_type": "stream",
     "text": [
      "-------------------------\n",
      "parcelid\n"
     ]
    },
    {
     "data": {
      "text/plain": [
       "13083743    3\n",
       "11991059    3\n",
       "14079874    2\n",
       "12827519    2\n",
       "12847318    2\n",
       "           ..\n",
       "12482514    1\n",
       "10720574    1\n",
       "12483845    1\n",
       "13077156    1\n",
       "12826780    1\n",
       "Name: parcelid, Length: 52400, dtype: int64"
      ]
     },
     "metadata": {},
     "output_type": "display_data"
    },
    {
     "name": "stdout",
     "output_type": "stream",
     "text": [
      "-------------------------\n",
      "id\n"
     ]
    },
    {
     "data": {
      "text/plain": [
       "2455685    3\n",
       "1968735    3\n",
       "1980108    2\n",
       "2782611    2\n",
       "471520     2\n",
       "          ..\n",
       "1245656    1\n",
       "1433044    1\n",
       "2274554    1\n",
       "1710698    1\n",
       "1187175    1\n",
       "Name: id, Length: 52400, dtype: int64"
      ]
     },
     "metadata": {},
     "output_type": "display_data"
    },
    {
     "name": "stdout",
     "output_type": "stream",
     "text": [
      "-------------------------\n",
      "bathroomcnt\n"
     ]
    },
    {
     "data": {
      "text/plain": [
       "2.0     21952\n",
       "3.0     10680\n",
       "1.0      9569\n",
       "2.5      3934\n",
       "4.0      2227\n",
       "3.5       918\n",
       "1.5       841\n",
       "5.0       803\n",
       "4.5       687\n",
       "6.0       322\n",
       "5.5       224\n",
       "0.0       135\n",
       "7.0        88\n",
       "8.0        53\n",
       "6.5        47\n",
       "7.5        16\n",
       "9.0        13\n",
       "10.0        5\n",
       "11.0        3\n",
       "8.5         3\n",
       "18.0        1\n",
       "13.0        1\n",
       "Name: bathroomcnt, dtype: int64"
      ]
     },
     "metadata": {},
     "output_type": "display_data"
    },
    {
     "name": "stdout",
     "output_type": "stream",
     "text": [
      "-------------------------\n",
      "bedroomcnt\n"
     ]
    },
    {
     "data": {
      "text/plain": [
       "3.0     23403\n",
       "4.0     15250\n",
       "2.0      8352\n",
       "5.0      3973\n",
       "6.0       635\n",
       "1.0       612\n",
       "0.0       152\n",
       "7.0       106\n",
       "8.0        24\n",
       "9.0         8\n",
       "12.0        3\n",
       "10.0        2\n",
       "14.0        1\n",
       "11.0        1\n",
       "Name: bedroomcnt, dtype: int64"
      ]
     },
     "metadata": {},
     "output_type": "display_data"
    },
    {
     "name": "stdout",
     "output_type": "stream",
     "text": [
      "-------------------------\n",
      "calculatedbathnbr\n"
     ]
    },
    {
     "data": {
      "text/plain": [
       "2.0     21952\n",
       "3.0     10680\n",
       "1.0      9569\n",
       "2.5      3926\n",
       "4.0      2227\n",
       "3.5       918\n",
       "1.5       834\n",
       "5.0       803\n",
       "4.5       687\n",
       "6.0       322\n",
       "5.5       223\n",
       "7.0        88\n",
       "8.0        53\n",
       "6.5        47\n",
       "7.5        16\n",
       "9.0        13\n",
       "10.0        5\n",
       "11.0        3\n",
       "8.5         3\n",
       "18.0        1\n",
       "13.0        1\n",
       "Name: calculatedbathnbr, dtype: int64"
      ]
     },
     "metadata": {},
     "output_type": "display_data"
    },
    {
     "name": "stdout",
     "output_type": "stream",
     "text": [
      "-------------------------\n",
      "calculatedfinishedsquarefeet\n"
     ]
    },
    {
     "data": {
      "text/plain": [
       "1120.0    128\n",
       "1200.0    119\n",
       "1080.0    103\n",
       "1040.0     86\n",
       "936.0      86\n",
       "         ... \n",
       "7088.0      1\n",
       "604.0       1\n",
       "5422.0      1\n",
       "534.0       1\n",
       "5655.0      1\n",
       "Name: calculatedfinishedsquarefeet, Length: 4723, dtype: int64"
      ]
     },
     "metadata": {},
     "output_type": "display_data"
    },
    {
     "name": "stdout",
     "output_type": "stream",
     "text": [
      "-------------------------\n",
      "fips\n"
     ]
    },
    {
     "data": {
      "text/plain": [
       "6037.0    33972\n",
       "6059.0    14145\n",
       "6111.0     4405\n",
       "Name: fips, dtype: int64"
      ]
     },
     "metadata": {},
     "output_type": "display_data"
    },
    {
     "name": "stdout",
     "output_type": "stream",
     "text": [
      "-------------------------\n",
      "fullbathcnt\n"
     ]
    },
    {
     "data": {
      "text/plain": [
       "2.0     25890\n",
       "3.0     11607\n",
       "1.0     10403\n",
       "4.0      2915\n",
       "5.0      1022\n",
       "6.0       359\n",
       "7.0        96\n",
       "8.0        56\n",
       "9.0        13\n",
       "10.0        5\n",
       "11.0        3\n",
       "18.0        1\n",
       "13.0        1\n",
       "Name: fullbathcnt, dtype: int64"
      ]
     },
     "metadata": {},
     "output_type": "display_data"
    },
    {
     "name": "stdout",
     "output_type": "stream",
     "text": [
      "-------------------------\n",
      "latitude\n"
     ]
    },
    {
     "data": {
      "text/plain": [
       "34047500.0    12\n",
       "34101300.0     7\n",
       "33906400.0     7\n",
       "33494800.0     7\n",
       "34487900.0     7\n",
       "              ..\n",
       "33922641.0     1\n",
       "33991670.0     1\n",
       "33604913.0     1\n",
       "34188239.0     1\n",
       "33937685.0     1\n",
       "Name: latitude, Length: 50546, dtype: int64"
      ]
     },
     "metadata": {},
     "output_type": "display_data"
    },
    {
     "name": "stdout",
     "output_type": "stream",
     "text": [
      "-------------------------\n",
      "longitude\n"
     ]
    },
    {
     "data": {
      "text/plain": [
       "-118249000.0    12\n",
       "-117835000.0     8\n",
       "-117879000.0     8\n",
       "-117830000.0     7\n",
       "-118327000.0     7\n",
       "                ..\n",
       "-118140773.0     1\n",
       "-118405445.0     1\n",
       "-118157621.0     1\n",
       "-117925516.0     1\n",
       "-117996709.0     1\n",
       "Name: longitude, Length: 50832, dtype: int64"
      ]
     },
     "metadata": {},
     "output_type": "display_data"
    },
    {
     "name": "stdout",
     "output_type": "stream",
     "text": [
      "-------------------------\n",
      "roomcnt\n"
     ]
    },
    {
     "data": {
      "text/plain": [
       "0.0     37927\n",
       "6.0      3984\n",
       "7.0      3615\n",
       "8.0      2813\n",
       "5.0      1895\n",
       "9.0      1176\n",
       "4.0       521\n",
       "10.0      339\n",
       "11.0      108\n",
       "3.0        79\n",
       "12.0       35\n",
       "2.0        12\n",
       "13.0       10\n",
       "14.0        6\n",
       "1.0         1\n",
       "15.0        1\n",
       "Name: roomcnt, dtype: int64"
      ]
     },
     "metadata": {},
     "output_type": "display_data"
    },
    {
     "name": "stdout",
     "output_type": "stream",
     "text": [
      "-------------------------\n",
      "numberofstories\n"
     ]
    },
    {
     "data": {
      "text/plain": [
       "1.0    8897\n",
       "2.0    5318\n",
       "3.0     352\n",
       "6.0       1\n",
       "Name: numberofstories, dtype: int64"
      ]
     },
     "metadata": {},
     "output_type": "display_data"
    },
    {
     "name": "stdout",
     "output_type": "stream",
     "text": [
      "-------------------------\n",
      "yearbuilt\n"
     ]
    },
    {
     "data": {
      "text/plain": [
       "1955.0    1899\n",
       "1950.0    1608\n",
       "1954.0    1520\n",
       "1953.0    1485\n",
       "1956.0    1387\n",
       "          ... \n",
       "1892.0       1\n",
       "1878.0       1\n",
       "1882.0       1\n",
       "1894.0       1\n",
       "1880.0       1\n",
       "Name: yearbuilt, Length: 133, dtype: int64"
      ]
     },
     "metadata": {},
     "output_type": "display_data"
    },
    {
     "name": "stdout",
     "output_type": "stream",
     "text": [
      "-------------------------\n",
      "regionidcity\n"
     ]
    },
    {
     "data": {
      "text/plain": [
       "12447.0    11457\n",
       "5534.0      1810\n",
       "40227.0     1499\n",
       "46298.0     1429\n",
       "16764.0     1087\n",
       "           ...  \n",
       "32927.0        3\n",
       "31134.0        2\n",
       "36078.0        1\n",
       "10815.0        1\n",
       "21395.0        1\n",
       "Name: regionidcity, Length: 175, dtype: int64"
      ]
     },
     "metadata": {},
     "output_type": "display_data"
    },
    {
     "name": "stdout",
     "output_type": "stream",
     "text": [
      "-------------------------\n",
      "regionidcounty\n"
     ]
    },
    {
     "data": {
      "text/plain": [
       "3101.0    33972\n",
       "1286.0    14145\n",
       "2061.0     4405\n",
       "Name: regionidcounty, dtype: int64"
      ]
     },
     "metadata": {},
     "output_type": "display_data"
    },
    {
     "name": "stdout",
     "output_type": "stream",
     "text": [
      "-------------------------\n",
      "regionidneighborhood\n"
     ]
    },
    {
     "data": {
      "text/plain": [
       "48570.0     503\n",
       "118208.0    476\n",
       "27080.0     448\n",
       "274049.0    391\n",
       "51906.0     374\n",
       "           ... \n",
       "763079.0      1\n",
       "764138.0      1\n",
       "763090.0      1\n",
       "764167.0      1\n",
       "762940.0      1\n",
       "Name: regionidneighborhood, Length: 437, dtype: int64"
      ]
     },
     "metadata": {},
     "output_type": "display_data"
    },
    {
     "name": "stdout",
     "output_type": "stream",
     "text": [
      "-------------------------\n",
      "regionidzip\n"
     ]
    },
    {
     "data": {
      "text/plain": [
       "97319.0    787\n",
       "97318.0    678\n",
       "97329.0    566\n",
       "97328.0    521\n",
       "97118.0    498\n",
       "          ... \n",
       "96467.0      1\n",
       "97092.0      1\n",
       "96148.0      1\n",
       "96038.0      1\n",
       "97088.0      1\n",
       "Name: regionidzip, Length: 381, dtype: int64"
      ]
     },
     "metadata": {},
     "output_type": "display_data"
    },
    {
     "name": "stdout",
     "output_type": "stream",
     "text": [
      "-------------------------\n",
      "taxvaluedollarcnt\n"
     ]
    },
    {
     "data": {
      "text/plain": [
       "455000.0    34\n",
       "600000.0    30\n",
       "550000.0    24\n",
       "500000.0    24\n",
       "450000.0    24\n",
       "            ..\n",
       "315728.0     1\n",
       "370475.0     1\n",
       "415456.0     1\n",
       "132295.0     1\n",
       "49546.0      1\n",
       "Name: taxvaluedollarcnt, Length: 38999, dtype: int64"
      ]
     },
     "metadata": {},
     "output_type": "display_data"
    },
    {
     "name": "stdout",
     "output_type": "stream",
     "text": [
      "-------------------------\n",
      "transactiondate\n"
     ]
    },
    {
     "data": {
      "text/plain": [
       "2017-06-30    812\n",
       "2017-04-28    619\n",
       "2017-05-31    567\n",
       "2017-07-28    548\n",
       "2017-08-31    529\n",
       "             ... \n",
       "2017-05-07      1\n",
       "2017-05-13      1\n",
       "2017-05-20      1\n",
       "2017-06-11      1\n",
       "2018-05-25      1\n",
       "Name: transactiondate, Length: 258, dtype: int64"
      ]
     },
     "metadata": {},
     "output_type": "display_data"
    }
   ],
   "source": [
    "display(df.info())\n",
    "display(df.head(8))\n",
    "for col in df.columns:\n",
    "    print('-'*25)\n",
    "    print(col)\n",
    "    display(df[col].value_counts())"
   ]
  },
  {
   "cell_type": "markdown",
   "id": "60333d39",
   "metadata": {},
   "source": [
    "Notes:\n",
    "\n",
    "- Look into duplicate parcelid's\n",
    "- Look into duplicate locations\n",
    "- 3 FIPS (county) codes: 6037 (LA), 6059 (Orange), 6111 (Ventura)\n",
    "- Drop redundant columms\n",
    "    - `bathroomsnbedrooms` = `bathrooms`\n",
    "    - `fullbathrooms` is similar enough to drop as well\n",
    "    - `roomcnt` has a mode of zero so we will drop\n",
    "    - I will only want homes with 1 or 2 stories\n",
    "    - columns to do univariate analysis to find outliers and/or missing values:\n",
    "        - year_built\n",
    "        - property_value\n",
    "    - `regionidcounty` is a duplicate of `fips`, so we will drop this.\n",
    "- Drop 2018 transaction date\n",
    "- Filter Data:\n",
    "    - 1 to 4 bathrooms\n",
    "    - 2 to 5 bedrooms\n",
    "    "
   ]
  },
  {
   "cell_type": "markdown",
   "id": "64144450",
   "metadata": {},
   "source": [
    "**Drop duplicates**\n",
    "\n",
    "Redundant Columns or Columns with lots of missing values "
   ]
  },
  {
   "cell_type": "code",
   "execution_count": 5,
   "id": "8eb4080f",
   "metadata": {},
   "outputs": [],
   "source": [
    "# df = df.drop(columns=['calculatedbathnbr', 'fullbathcnt', 'roomcnt', 'regionidcounty'])\n",
    "\n",
    "# drop redundant columns by changing query\n",
    "query = '''\n",
    "        SELECT p.parcelid, p.id, p.bathroomcnt, p.bedroomcnt,\n",
    "                p.calculatedfinishedsquarefeet, p.fips,\n",
    "                p.latitude, p.longitude, p.numberofstories, p.yearbuilt,\n",
    "                p.regionidcity, p.regionidneighborhood,\n",
    "                p.regionidzip, p.taxvaluedollarcnt, pred.transactiondate\n",
    "        FROM zillow.properties_2017 AS p\n",
    "            JOIN zillow.predictions_2017 AS pred USING (parcelid)\n",
    "        WHERE (p.propertylandusetypeid IN (261, 262, 263, 264, 279));\n",
    "        '''"
   ]
  },
  {
   "cell_type": "markdown",
   "id": "a2bee6d1",
   "metadata": {},
   "source": [
    "Check for columns with lots of missing data:\n",
    "- numberofstories\n",
    "- regionidneighborhood"
   ]
  },
  {
   "cell_type": "code",
   "execution_count": 6,
   "id": "d3ed2a1f",
   "metadata": {},
   "outputs": [
    {
     "data": {
      "text/plain": [
       "parcelid                            0\n",
       "id                                  0\n",
       "bathroomcnt                         0\n",
       "bedroomcnt                          0\n",
       "calculatedbathnbr                 151\n",
       "calculatedfinishedsquarefeet       95\n",
       "fips                                0\n",
       "fullbathcnt                       151\n",
       "latitude                            0\n",
       "longitude                           0\n",
       "roomcnt                             0\n",
       "numberofstories                 37954\n",
       "yearbuilt                         129\n",
       "regionidcity                     1037\n",
       "regionidcounty                      0\n",
       "regionidneighborhood            33480\n",
       "regionidzip                        26\n",
       "taxvaluedollarcnt                   1\n",
       "transactiondate                     0\n",
       "dtype: int64"
      ]
     },
     "execution_count": 6,
     "metadata": {},
     "output_type": "execute_result"
    }
   ],
   "source": [
    "df.isnull().sum()"
   ]
  },
  {
   "cell_type": "code",
   "execution_count": 7,
   "id": "700066ba",
   "metadata": {},
   "outputs": [],
   "source": [
    "# drop columns with missing values by changing query\n",
    "query = '''\n",
    "        SELECT p.parcelid, p.id, p.bathroomcnt, p.bedroomcnt,\n",
    "                p.calculatedfinishedsquarefeet, p.fips,\n",
    "                p.latitude, p.longitude, p.yearbuilt, p.regionidcity,\n",
    "                p.regionidzip, p.taxvaluedollarcnt, pred.transactiondate\n",
    "        FROM zillow.properties_2017 AS p\n",
    "            JOIN zillow.predictions_2017 AS pred USING (parcelid)\n",
    "        WHERE (p.propertylandusetypeid IN (261, 262, 263, 264, 279));\n",
    "        '''\n",
    "\n",
    "db = 'zillow'\n",
    "filename = 'data/zillow_raw.csv'\n",
    "\n",
    "df = get_sql_data(query, db, filename)"
   ]
  },
  {
   "cell_type": "markdown",
   "id": "25ee8e62",
   "metadata": {},
   "source": [
    "**Drop 2018 transaction date**\n",
    "\n",
    "i.e. only keep 2017 transaction dates"
   ]
  },
  {
   "cell_type": "code",
   "execution_count": 8,
   "id": "a6465aa7",
   "metadata": {},
   "outputs": [],
   "source": [
    "df = df[df['transactiondate'].str.startswith('2017')]"
   ]
  },
  {
   "cell_type": "markdown",
   "id": "5089872e",
   "metadata": {},
   "source": [
    "**Drop duplicate homes. Keep most recent transaction dates**"
   ]
  },
  {
   "cell_type": "code",
   "execution_count": 9,
   "id": "29df7d95",
   "metadata": {},
   "outputs": [
    {
     "data": {
      "text/plain": [
       "0"
      ]
     },
     "execution_count": 9,
     "metadata": {},
     "output_type": "execute_result"
    }
   ],
   "source": [
    "df.duplicated().sum()"
   ]
  },
  {
   "cell_type": "code",
   "execution_count": 10,
   "id": "b9498df6",
   "metadata": {},
   "outputs": [
    {
     "data": {
      "text/plain": [
       "121"
      ]
     },
     "execution_count": 10,
     "metadata": {},
     "output_type": "execute_result"
    }
   ],
   "source": [
    "df.duplicated(['id']).sum()\n"
   ]
  },
  {
   "cell_type": "code",
   "execution_count": 11,
   "id": "8fb6b471",
   "metadata": {},
   "outputs": [
    {
     "data": {
      "text/html": [
       "<div>\n",
       "<style scoped>\n",
       "    .dataframe tbody tr th:only-of-type {\n",
       "        vertical-align: middle;\n",
       "    }\n",
       "\n",
       "    .dataframe tbody tr th {\n",
       "        vertical-align: top;\n",
       "    }\n",
       "\n",
       "    .dataframe thead th {\n",
       "        text-align: right;\n",
       "    }\n",
       "</style>\n",
       "<table border=\"1\" class=\"dataframe\">\n",
       "  <thead>\n",
       "    <tr style=\"text-align: right;\">\n",
       "      <th></th>\n",
       "      <th>parcelid</th>\n",
       "      <th>id</th>\n",
       "      <th>bathroomcnt</th>\n",
       "      <th>bedroomcnt</th>\n",
       "      <th>calculatedfinishedsquarefeet</th>\n",
       "      <th>fips</th>\n",
       "      <th>latitude</th>\n",
       "      <th>longitude</th>\n",
       "      <th>yearbuilt</th>\n",
       "      <th>regionidcity</th>\n",
       "      <th>regionidzip</th>\n",
       "      <th>taxvaluedollarcnt</th>\n",
       "      <th>transactiondate</th>\n",
       "    </tr>\n",
       "  </thead>\n",
       "  <tbody>\n",
       "    <tr>\n",
       "      <th>671</th>\n",
       "      <td>11721753</td>\n",
       "      <td>616260</td>\n",
       "      <td>2.0</td>\n",
       "      <td>3.0</td>\n",
       "      <td>1316.0</td>\n",
       "      <td>6037.0</td>\n",
       "      <td>34033180.0</td>\n",
       "      <td>-118355396.0</td>\n",
       "      <td>1923.0</td>\n",
       "      <td>12447.0</td>\n",
       "      <td>95997.0</td>\n",
       "      <td>205123.0</td>\n",
       "      <td>2017-01-05</td>\n",
       "    </tr>\n",
       "    <tr>\n",
       "      <th>672</th>\n",
       "      <td>11721753</td>\n",
       "      <td>616260</td>\n",
       "      <td>2.0</td>\n",
       "      <td>3.0</td>\n",
       "      <td>1316.0</td>\n",
       "      <td>6037.0</td>\n",
       "      <td>34033180.0</td>\n",
       "      <td>-118355396.0</td>\n",
       "      <td>1923.0</td>\n",
       "      <td>12447.0</td>\n",
       "      <td>95997.0</td>\n",
       "      <td>205123.0</td>\n",
       "      <td>2017-07-21</td>\n",
       "    </tr>\n",
       "    <tr>\n",
       "      <th>834</th>\n",
       "      <td>11289917</td>\n",
       "      <td>2061546</td>\n",
       "      <td>2.0</td>\n",
       "      <td>3.0</td>\n",
       "      <td>1458.0</td>\n",
       "      <td>6037.0</td>\n",
       "      <td>34686163.0</td>\n",
       "      <td>-118113100.0</td>\n",
       "      <td>1970.0</td>\n",
       "      <td>5534.0</td>\n",
       "      <td>97318.0</td>\n",
       "      <td>136104.0</td>\n",
       "      <td>2017-01-06</td>\n",
       "    </tr>\n",
       "    <tr>\n",
       "      <th>835</th>\n",
       "      <td>11289917</td>\n",
       "      <td>2061546</td>\n",
       "      <td>2.0</td>\n",
       "      <td>3.0</td>\n",
       "      <td>1458.0</td>\n",
       "      <td>6037.0</td>\n",
       "      <td>34686163.0</td>\n",
       "      <td>-118113100.0</td>\n",
       "      <td>1970.0</td>\n",
       "      <td>5534.0</td>\n",
       "      <td>97318.0</td>\n",
       "      <td>136104.0</td>\n",
       "      <td>2017-06-23</td>\n",
       "    </tr>\n",
       "    <tr>\n",
       "      <th>1195</th>\n",
       "      <td>11705026</td>\n",
       "      <td>1834372</td>\n",
       "      <td>1.0</td>\n",
       "      <td>2.0</td>\n",
       "      <td>1421.0</td>\n",
       "      <td>6037.0</td>\n",
       "      <td>33999877.0</td>\n",
       "      <td>-118291863.0</td>\n",
       "      <td>1911.0</td>\n",
       "      <td>12447.0</td>\n",
       "      <td>96018.0</td>\n",
       "      <td>35606.0</td>\n",
       "      <td>2017-01-10</td>\n",
       "    </tr>\n",
       "    <tr>\n",
       "      <th>...</th>\n",
       "      <td>...</td>\n",
       "      <td>...</td>\n",
       "      <td>...</td>\n",
       "      <td>...</td>\n",
       "      <td>...</td>\n",
       "      <td>...</td>\n",
       "      <td>...</td>\n",
       "      <td>...</td>\n",
       "      <td>...</td>\n",
       "      <td>...</td>\n",
       "      <td>...</td>\n",
       "      <td>...</td>\n",
       "      <td>...</td>\n",
       "    </tr>\n",
       "    <tr>\n",
       "      <th>38681</th>\n",
       "      <td>14448410</td>\n",
       "      <td>2309078</td>\n",
       "      <td>3.0</td>\n",
       "      <td>3.0</td>\n",
       "      <td>1684.0</td>\n",
       "      <td>6059.0</td>\n",
       "      <td>33444723.0</td>\n",
       "      <td>-117638621.0</td>\n",
       "      <td>1963.0</td>\n",
       "      <td>13693.0</td>\n",
       "      <td>96982.0</td>\n",
       "      <td>745361.0</td>\n",
       "      <td>2017-08-31</td>\n",
       "    </tr>\n",
       "    <tr>\n",
       "      <th>40657</th>\n",
       "      <td>13066981</td>\n",
       "      <td>2008746</td>\n",
       "      <td>2.0</td>\n",
       "      <td>4.0</td>\n",
       "      <td>1533.0</td>\n",
       "      <td>6037.0</td>\n",
       "      <td>34028634.0</td>\n",
       "      <td>-117761735.0</td>\n",
       "      <td>1983.0</td>\n",
       "      <td>20008.0</td>\n",
       "      <td>96506.0</td>\n",
       "      <td>366160.0</td>\n",
       "      <td>2017-07-24</td>\n",
       "    </tr>\n",
       "    <tr>\n",
       "      <th>40658</th>\n",
       "      <td>13066981</td>\n",
       "      <td>2008746</td>\n",
       "      <td>2.0</td>\n",
       "      <td>4.0</td>\n",
       "      <td>1533.0</td>\n",
       "      <td>6037.0</td>\n",
       "      <td>34028634.0</td>\n",
       "      <td>-117761735.0</td>\n",
       "      <td>1983.0</td>\n",
       "      <td>20008.0</td>\n",
       "      <td>96506.0</td>\n",
       "      <td>366160.0</td>\n",
       "      <td>2017-09-01</td>\n",
       "    </tr>\n",
       "    <tr>\n",
       "      <th>43548</th>\n",
       "      <td>17282392</td>\n",
       "      <td>2938730</td>\n",
       "      <td>2.0</td>\n",
       "      <td>3.0</td>\n",
       "      <td>1713.0</td>\n",
       "      <td>6111.0</td>\n",
       "      <td>34190023.0</td>\n",
       "      <td>-118868615.0</td>\n",
       "      <td>1963.0</td>\n",
       "      <td>34278.0</td>\n",
       "      <td>96383.0</td>\n",
       "      <td>498684.0</td>\n",
       "      <td>2017-08-07</td>\n",
       "    </tr>\n",
       "    <tr>\n",
       "      <th>43549</th>\n",
       "      <td>17282392</td>\n",
       "      <td>2938730</td>\n",
       "      <td>2.0</td>\n",
       "      <td>3.0</td>\n",
       "      <td>1713.0</td>\n",
       "      <td>6111.0</td>\n",
       "      <td>34190023.0</td>\n",
       "      <td>-118868615.0</td>\n",
       "      <td>1963.0</td>\n",
       "      <td>34278.0</td>\n",
       "      <td>96383.0</td>\n",
       "      <td>498684.0</td>\n",
       "      <td>2017-08-25</td>\n",
       "    </tr>\n",
       "  </tbody>\n",
       "</table>\n",
       "<p>241 rows × 13 columns</p>\n",
       "</div>"
      ],
      "text/plain": [
       "       parcelid       id  bathroomcnt  bedroomcnt  \\\n",
       "671    11721753   616260          2.0         3.0   \n",
       "672    11721753   616260          2.0         3.0   \n",
       "834    11289917  2061546          2.0         3.0   \n",
       "835    11289917  2061546          2.0         3.0   \n",
       "1195   11705026  1834372          1.0         2.0   \n",
       "...         ...      ...          ...         ...   \n",
       "38681  14448410  2309078          3.0         3.0   \n",
       "40657  13066981  2008746          2.0         4.0   \n",
       "40658  13066981  2008746          2.0         4.0   \n",
       "43548  17282392  2938730          2.0         3.0   \n",
       "43549  17282392  2938730          2.0         3.0   \n",
       "\n",
       "       calculatedfinishedsquarefeet    fips    latitude    longitude  \\\n",
       "671                          1316.0  6037.0  34033180.0 -118355396.0   \n",
       "672                          1316.0  6037.0  34033180.0 -118355396.0   \n",
       "834                          1458.0  6037.0  34686163.0 -118113100.0   \n",
       "835                          1458.0  6037.0  34686163.0 -118113100.0   \n",
       "1195                         1421.0  6037.0  33999877.0 -118291863.0   \n",
       "...                             ...     ...         ...          ...   \n",
       "38681                        1684.0  6059.0  33444723.0 -117638621.0   \n",
       "40657                        1533.0  6037.0  34028634.0 -117761735.0   \n",
       "40658                        1533.0  6037.0  34028634.0 -117761735.0   \n",
       "43548                        1713.0  6111.0  34190023.0 -118868615.0   \n",
       "43549                        1713.0  6111.0  34190023.0 -118868615.0   \n",
       "\n",
       "       yearbuilt  regionidcity  regionidzip  taxvaluedollarcnt transactiondate  \n",
       "671       1923.0       12447.0      95997.0           205123.0      2017-01-05  \n",
       "672       1923.0       12447.0      95997.0           205123.0      2017-07-21  \n",
       "834       1970.0        5534.0      97318.0           136104.0      2017-01-06  \n",
       "835       1970.0        5534.0      97318.0           136104.0      2017-06-23  \n",
       "1195      1911.0       12447.0      96018.0            35606.0      2017-01-10  \n",
       "...          ...           ...          ...                ...             ...  \n",
       "38681     1963.0       13693.0      96982.0           745361.0      2017-08-31  \n",
       "40657     1983.0       20008.0      96506.0           366160.0      2017-07-24  \n",
       "40658     1983.0       20008.0      96506.0           366160.0      2017-09-01  \n",
       "43548     1963.0       34278.0      96383.0           498684.0      2017-08-07  \n",
       "43549     1963.0       34278.0      96383.0           498684.0      2017-08-25  \n",
       "\n",
       "[241 rows x 13 columns]"
      ]
     },
     "execution_count": 11,
     "metadata": {},
     "output_type": "execute_result"
    }
   ],
   "source": [
    "df[df.duplicated(['id'], keep=False)]"
   ]
  },
  {
   "cell_type": "markdown",
   "id": "cec81882",
   "metadata": {},
   "source": [
    "**Drop duplicate homes id's. Keep latest transaction date.**"
   ]
  },
  {
   "cell_type": "code",
   "execution_count": 12,
   "id": "81df2ec1",
   "metadata": {},
   "outputs": [
    {
     "name": "stderr",
     "output_type": "stream",
     "text": [
      "/var/folders/hg/jdcrdn3s5s3ddyrj47p9s7lh0000gn/T/ipykernel_8749/3359318391.py:1: UserWarning: Boolean Series key will be reindexed to match DataFrame index.\n",
      "  df.sort_values(by=['id','transactiondate', 'latitude'], ascending=False)[df.duplicated(['id'], keep=False)]\n"
     ]
    },
    {
     "data": {
      "text/html": [
       "<div>\n",
       "<style scoped>\n",
       "    .dataframe tbody tr th:only-of-type {\n",
       "        vertical-align: middle;\n",
       "    }\n",
       "\n",
       "    .dataframe tbody tr th {\n",
       "        vertical-align: top;\n",
       "    }\n",
       "\n",
       "    .dataframe thead th {\n",
       "        text-align: right;\n",
       "    }\n",
       "</style>\n",
       "<table border=\"1\" class=\"dataframe\">\n",
       "  <thead>\n",
       "    <tr style=\"text-align: right;\">\n",
       "      <th></th>\n",
       "      <th>parcelid</th>\n",
       "      <th>id</th>\n",
       "      <th>bathroomcnt</th>\n",
       "      <th>bedroomcnt</th>\n",
       "      <th>calculatedfinishedsquarefeet</th>\n",
       "      <th>fips</th>\n",
       "      <th>latitude</th>\n",
       "      <th>longitude</th>\n",
       "      <th>yearbuilt</th>\n",
       "      <th>regionidcity</th>\n",
       "      <th>regionidzip</th>\n",
       "      <th>taxvaluedollarcnt</th>\n",
       "      <th>transactiondate</th>\n",
       "    </tr>\n",
       "  </thead>\n",
       "  <tbody>\n",
       "    <tr>\n",
       "      <th>31662</th>\n",
       "      <td>14088988</td>\n",
       "      <td>2978762</td>\n",
       "      <td>2.0</td>\n",
       "      <td>3.0</td>\n",
       "      <td>1306.0</td>\n",
       "      <td>6059.0</td>\n",
       "      <td>33746345.0</td>\n",
       "      <td>-118101093.0</td>\n",
       "      <td>1958.0</td>\n",
       "      <td>54352.0</td>\n",
       "      <td>96225.0</td>\n",
       "      <td>71905.0</td>\n",
       "      <td>2017-09-12</td>\n",
       "    </tr>\n",
       "    <tr>\n",
       "      <th>31661</th>\n",
       "      <td>14088988</td>\n",
       "      <td>2978762</td>\n",
       "      <td>2.0</td>\n",
       "      <td>3.0</td>\n",
       "      <td>1306.0</td>\n",
       "      <td>6059.0</td>\n",
       "      <td>33746345.0</td>\n",
       "      <td>-118101093.0</td>\n",
       "      <td>1958.0</td>\n",
       "      <td>54352.0</td>\n",
       "      <td>96225.0</td>\n",
       "      <td>71905.0</td>\n",
       "      <td>2017-06-15</td>\n",
       "    </tr>\n",
       "    <tr>\n",
       "      <th>22030</th>\n",
       "      <td>11717962</td>\n",
       "      <td>2972170</td>\n",
       "      <td>1.0</td>\n",
       "      <td>2.0</td>\n",
       "      <td>1166.0</td>\n",
       "      <td>6037.0</td>\n",
       "      <td>34012041.0</td>\n",
       "      <td>-118304438.0</td>\n",
       "      <td>1911.0</td>\n",
       "      <td>12447.0</td>\n",
       "      <td>96043.0</td>\n",
       "      <td>324880.0</td>\n",
       "      <td>2017-08-31</td>\n",
       "    </tr>\n",
       "    <tr>\n",
       "      <th>22029</th>\n",
       "      <td>11717962</td>\n",
       "      <td>2972170</td>\n",
       "      <td>1.0</td>\n",
       "      <td>2.0</td>\n",
       "      <td>1166.0</td>\n",
       "      <td>6037.0</td>\n",
       "      <td>34012041.0</td>\n",
       "      <td>-118304438.0</td>\n",
       "      <td>1911.0</td>\n",
       "      <td>12447.0</td>\n",
       "      <td>96043.0</td>\n",
       "      <td>324880.0</td>\n",
       "      <td>2017-05-03</td>\n",
       "    </tr>\n",
       "    <tr>\n",
       "      <th>16690</th>\n",
       "      <td>10833654</td>\n",
       "      <td>2969129</td>\n",
       "      <td>2.0</td>\n",
       "      <td>3.0</td>\n",
       "      <td>1749.0</td>\n",
       "      <td>6037.0</td>\n",
       "      <td>34204943.0</td>\n",
       "      <td>-118497737.0</td>\n",
       "      <td>1961.0</td>\n",
       "      <td>12447.0</td>\n",
       "      <td>96415.0</td>\n",
       "      <td>83937.0</td>\n",
       "      <td>2017-09-05</td>\n",
       "    </tr>\n",
       "    <tr>\n",
       "      <th>...</th>\n",
       "      <td>...</td>\n",
       "      <td>...</td>\n",
       "      <td>...</td>\n",
       "      <td>...</td>\n",
       "      <td>...</td>\n",
       "      <td>...</td>\n",
       "      <td>...</td>\n",
       "      <td>...</td>\n",
       "      <td>...</td>\n",
       "      <td>...</td>\n",
       "      <td>...</td>\n",
       "      <td>...</td>\n",
       "      <td>...</td>\n",
       "    </tr>\n",
       "    <tr>\n",
       "      <th>10201</th>\n",
       "      <td>13921492</td>\n",
       "      <td>40398</td>\n",
       "      <td>2.0</td>\n",
       "      <td>4.0</td>\n",
       "      <td>1485.0</td>\n",
       "      <td>6059.0</td>\n",
       "      <td>33830120.0</td>\n",
       "      <td>-117894336.0</td>\n",
       "      <td>1959.0</td>\n",
       "      <td>16764.0</td>\n",
       "      <td>97024.0</td>\n",
       "      <td>63338.0</td>\n",
       "      <td>2017-03-07</td>\n",
       "    </tr>\n",
       "    <tr>\n",
       "      <th>16823</th>\n",
       "      <td>13885693</td>\n",
       "      <td>40246</td>\n",
       "      <td>2.0</td>\n",
       "      <td>5.0</td>\n",
       "      <td>1705.0</td>\n",
       "      <td>6059.0</td>\n",
       "      <td>33784407.0</td>\n",
       "      <td>-117860205.0</td>\n",
       "      <td>1968.0</td>\n",
       "      <td>33252.0</td>\n",
       "      <td>97066.0</td>\n",
       "      <td>348742.0</td>\n",
       "      <td>2017-09-13</td>\n",
       "    </tr>\n",
       "    <tr>\n",
       "      <th>16822</th>\n",
       "      <td>13885693</td>\n",
       "      <td>40246</td>\n",
       "      <td>2.0</td>\n",
       "      <td>5.0</td>\n",
       "      <td>1705.0</td>\n",
       "      <td>6059.0</td>\n",
       "      <td>33784407.0</td>\n",
       "      <td>-117860205.0</td>\n",
       "      <td>1968.0</td>\n",
       "      <td>33252.0</td>\n",
       "      <td>97066.0</td>\n",
       "      <td>348742.0</td>\n",
       "      <td>2017-04-10</td>\n",
       "    </tr>\n",
       "    <tr>\n",
       "      <th>9400</th>\n",
       "      <td>10722858</td>\n",
       "      <td>16179</td>\n",
       "      <td>2.0</td>\n",
       "      <td>4.0</td>\n",
       "      <td>1570.0</td>\n",
       "      <td>6037.0</td>\n",
       "      <td>34195746.0</td>\n",
       "      <td>-118624097.0</td>\n",
       "      <td>1960.0</td>\n",
       "      <td>12447.0</td>\n",
       "      <td>96342.0</td>\n",
       "      <td>373282.0</td>\n",
       "      <td>2017-07-28</td>\n",
       "    </tr>\n",
       "    <tr>\n",
       "      <th>9399</th>\n",
       "      <td>10722858</td>\n",
       "      <td>16179</td>\n",
       "      <td>2.0</td>\n",
       "      <td>4.0</td>\n",
       "      <td>1570.0</td>\n",
       "      <td>6037.0</td>\n",
       "      <td>34195746.0</td>\n",
       "      <td>-118624097.0</td>\n",
       "      <td>1960.0</td>\n",
       "      <td>12447.0</td>\n",
       "      <td>96342.0</td>\n",
       "      <td>373282.0</td>\n",
       "      <td>2017-03-02</td>\n",
       "    </tr>\n",
       "  </tbody>\n",
       "</table>\n",
       "<p>241 rows × 13 columns</p>\n",
       "</div>"
      ],
      "text/plain": [
       "       parcelid       id  bathroomcnt  bedroomcnt  \\\n",
       "31662  14088988  2978762          2.0         3.0   \n",
       "31661  14088988  2978762          2.0         3.0   \n",
       "22030  11717962  2972170          1.0         2.0   \n",
       "22029  11717962  2972170          1.0         2.0   \n",
       "16690  10833654  2969129          2.0         3.0   \n",
       "...         ...      ...          ...         ...   \n",
       "10201  13921492    40398          2.0         4.0   \n",
       "16823  13885693    40246          2.0         5.0   \n",
       "16822  13885693    40246          2.0         5.0   \n",
       "9400   10722858    16179          2.0         4.0   \n",
       "9399   10722858    16179          2.0         4.0   \n",
       "\n",
       "       calculatedfinishedsquarefeet    fips    latitude    longitude  \\\n",
       "31662                        1306.0  6059.0  33746345.0 -118101093.0   \n",
       "31661                        1306.0  6059.0  33746345.0 -118101093.0   \n",
       "22030                        1166.0  6037.0  34012041.0 -118304438.0   \n",
       "22029                        1166.0  6037.0  34012041.0 -118304438.0   \n",
       "16690                        1749.0  6037.0  34204943.0 -118497737.0   \n",
       "...                             ...     ...         ...          ...   \n",
       "10201                        1485.0  6059.0  33830120.0 -117894336.0   \n",
       "16823                        1705.0  6059.0  33784407.0 -117860205.0   \n",
       "16822                        1705.0  6059.0  33784407.0 -117860205.0   \n",
       "9400                         1570.0  6037.0  34195746.0 -118624097.0   \n",
       "9399                         1570.0  6037.0  34195746.0 -118624097.0   \n",
       "\n",
       "       yearbuilt  regionidcity  regionidzip  taxvaluedollarcnt transactiondate  \n",
       "31662     1958.0       54352.0      96225.0            71905.0      2017-09-12  \n",
       "31661     1958.0       54352.0      96225.0            71905.0      2017-06-15  \n",
       "22030     1911.0       12447.0      96043.0           324880.0      2017-08-31  \n",
       "22029     1911.0       12447.0      96043.0           324880.0      2017-05-03  \n",
       "16690     1961.0       12447.0      96415.0            83937.0      2017-09-05  \n",
       "...          ...           ...          ...                ...             ...  \n",
       "10201     1959.0       16764.0      97024.0            63338.0      2017-03-07  \n",
       "16823     1968.0       33252.0      97066.0           348742.0      2017-09-13  \n",
       "16822     1968.0       33252.0      97066.0           348742.0      2017-04-10  \n",
       "9400      1960.0       12447.0      96342.0           373282.0      2017-07-28  \n",
       "9399      1960.0       12447.0      96342.0           373282.0      2017-03-02  \n",
       "\n",
       "[241 rows x 13 columns]"
      ]
     },
     "execution_count": 12,
     "metadata": {},
     "output_type": "execute_result"
    }
   ],
   "source": [
    "df.sort_values(by=['id','transactiondate', 'latitude'], ascending=False)[df.duplicated(['id'], keep=False)]\n"
   ]
  },
  {
   "cell_type": "code",
   "execution_count": 13,
   "id": "87950166",
   "metadata": {},
   "outputs": [],
   "source": [
    "# sort by transactiondate to keep most recent transaction date\n",
    "df = df.sort_values(by=['transactiondate'], ascending=False)\\\n",
    "       .drop_duplicates(['id'])"
   ]
  },
  {
   "cell_type": "markdown",
   "id": "197b18cc",
   "metadata": {},
   "source": [
    "**Drop homes with duplicate locations. Keep latest transaction date.**"
   ]
  },
  {
   "cell_type": "code",
   "execution_count": 16,
   "id": "2cd84f87",
   "metadata": {},
   "outputs": [
    {
     "data": {
      "text/plain": [
       "0"
      ]
     },
     "execution_count": 16,
     "metadata": {},
     "output_type": "execute_result"
    }
   ],
   "source": [
    "df.duplicated(['latitude','longitude']).sum()"
   ]
  },
  {
   "cell_type": "code",
   "execution_count": 17,
   "id": "d7905982",
   "metadata": {},
   "outputs": [],
   "source": [
    "# sort by transactiondate to keep most recent transaction date\n",
    "df = df.sort_values(by=['transactiondate'], ascending=False)\\\n",
    "       .drop_duplicates(['latitude','longitude'])"
   ]
  },
  {
   "cell_type": "markdown",
   "id": "3c65d725",
   "metadata": {},
   "source": [
    "**Rename the columns:**"
   ]
  },
  {
   "cell_type": "code",
   "execution_count": 18,
   "id": "fca04d04",
   "metadata": {},
   "outputs": [
    {
     "data": {
      "text/plain": [
       "Index(['parcelid', 'id', 'bathroomcnt', 'bedroomcnt',\n",
       "       'calculatedfinishedsquarefeet', 'fips', 'latitude', 'longitude',\n",
       "       'yearbuilt', 'regionidcity', 'regionidzip', 'taxvaluedollarcnt',\n",
       "       'transactiondate'],\n",
       "      dtype='object')"
      ]
     },
     "execution_count": 18,
     "metadata": {},
     "output_type": "execute_result"
    }
   ],
   "source": [
    "df.columns"
   ]
  },
  {
   "cell_type": "code",
   "execution_count": 19,
   "id": "ccf62e18",
   "metadata": {},
   "outputs": [],
   "source": [
    "df.columns = ['parcelid', 'id', 'bathrooms', 'bedrooms', 'sqft', 'fips', 'latitude',\n",
    "               'longitude', 'year_built', 'regionidcity', 'regionidzip',\n",
    "               'property_value', 'transaction_date']"
   ]
  },
  {
   "cell_type": "markdown",
   "id": "3b78e36c",
   "metadata": {},
   "source": [
    "**Rows with missing values**"
   ]
  },
  {
   "cell_type": "code",
   "execution_count": 21,
   "id": "e99dc872",
   "metadata": {},
   "outputs": [
    {
     "data": {
      "text/plain": [
       "parcelid            0.000000\n",
       "id                  0.000000\n",
       "bathrooms           0.000000\n",
       "bedrooms            0.000000\n",
       "sqft                0.001683\n",
       "fips                0.000000\n",
       "latitude            0.000000\n",
       "longitude           0.000000\n",
       "year_built          0.002238\n",
       "regionidcity        0.019625\n",
       "regionidzip         0.000344\n",
       "property_value      0.000019\n",
       "transaction_date    0.000000\n",
       "dtype: float64"
      ]
     },
     "execution_count": 21,
     "metadata": {},
     "output_type": "execute_result"
    }
   ],
   "source": [
    "df.isnull().sum()/len(df)"
   ]
  },
  {
   "cell_type": "markdown",
   "id": "11a17ca3",
   "metadata": {},
   "source": [
    "I will drop the rest of the missing values, since they account for less than 2% of the data."
   ]
  },
  {
   "cell_type": "code",
   "execution_count": 22,
   "id": "6a40e61f",
   "metadata": {},
   "outputs": [],
   "source": [
    "df = df.dropna()"
   ]
  },
  {
   "cell_type": "markdown",
   "id": "4c69405a",
   "metadata": {},
   "source": [
    "Checking for white space values"
   ]
  },
  {
   "cell_type": "code",
   "execution_count": 23,
   "id": "b68395df",
   "metadata": {},
   "outputs": [
    {
     "data": {
      "text/plain": [
       "[]"
      ]
     },
     "execution_count": 23,
     "metadata": {},
     "output_type": "execute_result"
    }
   ],
   "source": [
    "identify_cols_with_white_space(df)"
   ]
  },
  {
   "cell_type": "markdown",
   "id": "6e1874f2",
   "metadata": {},
   "source": [
    "**Change year_built to age**"
   ]
  },
  {
   "cell_type": "code",
   "execution_count": 24,
   "id": "80dae0e9",
   "metadata": {},
   "outputs": [],
   "source": [
    "df['age'] = df['year_built'].max() - df['year_built']"
   ]
  },
  {
   "cell_type": "code",
   "execution_count": 25,
   "id": "f5f9785a",
   "metadata": {},
   "outputs": [],
   "source": [
    "df = df.drop(columns=['year_built'])"
   ]
  },
  {
   "cell_type": "markdown",
   "id": "98200335",
   "metadata": {},
   "source": [
    "**Check Outliers / Filter Data**"
   ]
  },
  {
   "cell_type": "code",
   "execution_count": 26,
   "id": "55421fca",
   "metadata": {
    "scrolled": true
   },
   "outputs": [
    {
     "name": "stdout",
     "output_type": "stream",
     "text": [
      "transaction_date is continuous but not numeric. Check if column needs to be cleaned\n",
      "FIPS\n"
     ]
    },
    {
     "data": {
      "text/html": [
       "<div>\n",
       "<style scoped>\n",
       "    .dataframe tbody tr th:only-of-type {\n",
       "        vertical-align: middle;\n",
       "    }\n",
       "\n",
       "    .dataframe tbody tr th {\n",
       "        vertical-align: top;\n",
       "    }\n",
       "\n",
       "    .dataframe thead th {\n",
       "        text-align: right;\n",
       "    }\n",
       "</style>\n",
       "<table border=\"1\" class=\"dataframe\">\n",
       "  <thead>\n",
       "    <tr style=\"text-align: right;\">\n",
       "      <th></th>\n",
       "      <th>fips</th>\n",
       "      <th>Count</th>\n",
       "      <th>Frequency</th>\n",
       "    </tr>\n",
       "  </thead>\n",
       "  <tbody>\n",
       "    <tr>\n",
       "      <th>0</th>\n",
       "      <td>6037.0</td>\n",
       "      <td>33088</td>\n",
       "      <td>0.647034</td>\n",
       "    </tr>\n",
       "    <tr>\n",
       "      <th>1</th>\n",
       "      <td>6059.0</td>\n",
       "      <td>13701</td>\n",
       "      <td>0.267922</td>\n",
       "    </tr>\n",
       "    <tr>\n",
       "      <th>2</th>\n",
       "      <td>6111.0</td>\n",
       "      <td>4349</td>\n",
       "      <td>0.085044</td>\n",
       "    </tr>\n",
       "  </tbody>\n",
       "</table>\n",
       "</div>"
      ],
      "text/plain": [
       "     fips  Count  Frequency\n",
       "0  6037.0  33088   0.647034\n",
       "1  6059.0  13701   0.267922\n",
       "2  6111.0   4349   0.085044"
      ]
     },
     "metadata": {},
     "output_type": "display_data"
    },
    {
     "data": {
      "image/png": "[encoded data removed]",
      "text/plain": [
       "<Figure size 300x200 with 1 Axes>"
      ]
     },
     "metadata": {},
     "output_type": "display_data"
    },
    {
     "name": "stdout",
     "output_type": "stream",
     "text": [
      "\n"
     ]
    }
   ],
   "source": [
    "explore_utils.explore_univariate_categorical_cols(df)"
   ]
  },
  {
   "cell_type": "code",
   "execution_count": 27,
   "id": "46b4c34a",
   "metadata": {
    "scrolled": true
   },
   "outputs": [
    {
     "name": "stdout",
     "output_type": "stream",
     "text": [
      "Descriptive Stats:\n",
      "\n"
     ]
    },
    {
     "data": {
      "text/html": [
       "<div>\n",
       "<style scoped>\n",
       "    .dataframe tbody tr th:only-of-type {\n",
       "        vertical-align: middle;\n",
       "    }\n",
       "\n",
       "    .dataframe tbody tr th {\n",
       "        vertical-align: top;\n",
       "    }\n",
       "\n",
       "    .dataframe thead th {\n",
       "        text-align: right;\n",
       "    }\n",
       "</style>\n",
       "<table border=\"1\" class=\"dataframe\">\n",
       "  <thead>\n",
       "    <tr style=\"text-align: right;\">\n",
       "      <th></th>\n",
       "      <th>bathrooms</th>\n",
       "      <th>bedrooms</th>\n",
       "      <th>sqft</th>\n",
       "      <th>age</th>\n",
       "      <th>property_value</th>\n",
       "    </tr>\n",
       "  </thead>\n",
       "  <tbody>\n",
       "    <tr>\n",
       "      <th>count</th>\n",
       "      <td>51138.000000</td>\n",
       "      <td>51138.000000</td>\n",
       "      <td>51138.000000</td>\n",
       "      <td>51138.000000</td>\n",
       "      <td>5.113800e+04</td>\n",
       "    </tr>\n",
       "    <tr>\n",
       "      <th>mean</th>\n",
       "      <td>2.294399</td>\n",
       "      <td>3.302397</td>\n",
       "      <td>1914.244730</td>\n",
       "      <td>52.866498</td>\n",
       "      <td>5.267097e+05</td>\n",
       "    </tr>\n",
       "    <tr>\n",
       "      <th>std</th>\n",
       "      <td>1.013918</td>\n",
       "      <td>0.933582</td>\n",
       "      <td>998.573994</td>\n",
       "      <td>22.943001</td>\n",
       "      <td>7.512584e+05</td>\n",
       "    </tr>\n",
       "    <tr>\n",
       "      <th>min</th>\n",
       "      <td>0.000000</td>\n",
       "      <td>0.000000</td>\n",
       "      <td>128.000000</td>\n",
       "      <td>0.000000</td>\n",
       "      <td>1.000000e+03</td>\n",
       "    </tr>\n",
       "    <tr>\n",
       "      <th>25%</th>\n",
       "      <td>2.000000</td>\n",
       "      <td>3.000000</td>\n",
       "      <td>1266.000000</td>\n",
       "      <td>38.000000</td>\n",
       "      <td>1.924400e+05</td>\n",
       "    </tr>\n",
       "    <tr>\n",
       "      <th>50%</th>\n",
       "      <td>2.000000</td>\n",
       "      <td>3.000000</td>\n",
       "      <td>1652.000000</td>\n",
       "      <td>56.000000</td>\n",
       "      <td>3.705660e+05</td>\n",
       "    </tr>\n",
       "    <tr>\n",
       "      <th>75%</th>\n",
       "      <td>3.000000</td>\n",
       "      <td>4.000000</td>\n",
       "      <td>2289.000000</td>\n",
       "      <td>66.000000</td>\n",
       "      <td>6.143382e+05</td>\n",
       "    </tr>\n",
       "    <tr>\n",
       "      <th>max</th>\n",
       "      <td>18.000000</td>\n",
       "      <td>14.000000</td>\n",
       "      <td>21929.000000</td>\n",
       "      <td>138.000000</td>\n",
       "      <td>4.906124e+07</td>\n",
       "    </tr>\n",
       "  </tbody>\n",
       "</table>\n",
       "</div>"
      ],
      "text/plain": [
       "          bathrooms      bedrooms          sqft           age  property_value\n",
       "count  51138.000000  51138.000000  51138.000000  51138.000000    5.113800e+04\n",
       "mean       2.294399      3.302397   1914.244730     52.866498    5.267097e+05\n",
       "std        1.013918      0.933582    998.573994     22.943001    7.512584e+05\n",
       "min        0.000000      0.000000    128.000000      0.000000    1.000000e+03\n",
       "25%        2.000000      3.000000   1266.000000     38.000000    1.924400e+05\n",
       "50%        2.000000      3.000000   1652.000000     56.000000    3.705660e+05\n",
       "75%        3.000000      4.000000   2289.000000     66.000000    6.143382e+05\n",
       "max       18.000000     14.000000  21929.000000    138.000000    4.906124e+07"
      ]
     },
     "metadata": {},
     "output_type": "display_data"
    },
    {
     "name": "stdout",
     "output_type": "stream",
     "text": [
      "------------------------------------------------------------ \n",
      " BATHROOMS \n",
      "\n",
      "Most Frequent Values:\n",
      "2.0    21632\n",
      "3.0    10244\n",
      "1.0     9353\n",
      "Name: bathrooms, dtype: int64\n"
     ]
    },
    {
     "data": {
      "image/png": "[encoded data removed]",
      "text/plain": [
       "<Figure size 600x200 with 2 Axes>"
      ]
     },
     "metadata": {},
     "output_type": "display_data"
    },
    {
     "name": "stdout",
     "output_type": "stream",
     "text": [
      "\n",
      "------------------------------------------------------------ \n",
      " BEDROOMS \n",
      "\n",
      "Most Frequent Values:\n",
      "3.0    22977\n",
      "4.0    14823\n",
      "2.0     8175\n",
      "Name: bedrooms, dtype: int64\n"
     ]
    },
    {
     "data": {
      "image/png": "[encoded data removed]",
      "text/plain": [
       "<Figure size 600x200 with 2 Axes>"
      ]
     },
     "metadata": {},
     "output_type": "display_data"
    },
    {
     "name": "stdout",
     "output_type": "stream",
     "text": [
      "\n",
      "------------------------------------------------------------ \n",
      " SQFT \n",
      "\n",
      "Most Frequent Values:\n",
      "1120.0    127\n",
      "1200.0    115\n",
      "1080.0    100\n",
      "Name: sqft, dtype: int64\n"
     ]
    },
    {
     "data": {
      "image/png": "[encoded data removed]",
      "text/plain": [
       "<Figure size 600x200 with 2 Axes>"
      ]
     },
     "metadata": {},
     "output_type": "display_data"
    },
    {
     "name": "stdout",
     "output_type": "stream",
     "text": [
      "\n",
      "------------------------------------------------------------ \n",
      " AGE \n",
      "\n",
      "Most Frequent Values:\n",
      "61.0    1861\n",
      "66.0    1597\n",
      "62.0    1492\n",
      "Name: age, dtype: int64\n"
     ]
    },
    {
     "data": {
      "image/png": "[encoded data removed]",
      "text/plain": [
       "<Figure size 600x200 with 2 Axes>"
      ]
     },
     "metadata": {},
     "output_type": "display_data"
    },
    {
     "name": "stdout",
     "output_type": "stream",
     "text": [
      "\n",
      "------------------------------------------------------------ \n",
      " PROPERTY_VALUE \n",
      "\n",
      "Most Frequent Values:\n",
      "455000.0    31\n",
      "600000.0    29\n",
      "500000.0    24\n",
      "Name: property_value, dtype: int64\n"
     ]
    },
    {
     "data": {
      "image/png": "[encoded data removed]",
      "text/plain": [
       "<Figure size 600x200 with 2 Axes>"
      ]
     },
     "metadata": {},
     "output_type": "display_data"
    },
    {
     "name": "stdout",
     "output_type": "stream",
     "text": [
      "\n"
     ]
    }
   ],
   "source": [
    "explore_utils.explore_univariate_continuous_cols(df,\n",
    "                                                 cont_cols=['bathrooms',\n",
    "                                                            'bedrooms',\n",
    "                                                            'sqft', 'age',\n",
    "                                                            'property_value'])"
   ]
  },
  {
   "cell_type": "code",
   "execution_count": 28,
   "id": "7690b45e",
   "metadata": {},
   "outputs": [
    {
     "data": {
      "text/plain": [
       "<seaborn.axisgrid.FacetGrid at 0x7fa2c24e1b10>"
      ]
     },
     "execution_count": 28,
     "metadata": {},
     "output_type": "execute_result"
    },
    {
     "data": {
      "image/png": "[encoded data removed]",
      "text/plain": [
       "<Figure size 500x500 with 1 Axes>"
      ]
     },
     "metadata": {},
     "output_type": "display_data"
    }
   ],
   "source": [
    "sns.displot(data=df[df['sqft'] < 100_000].sample(frac=.1, random_state=125), x='sqft')"
   ]
  },
  {
   "cell_type": "code",
   "execution_count": 29,
   "id": "88ef751b",
   "metadata": {},
   "outputs": [
    {
     "data": {
      "text/plain": [
       "<seaborn.axisgrid.FacetGrid at 0x7fa2c2144eb0>"
      ]
     },
     "execution_count": 29,
     "metadata": {},
     "output_type": "execute_result"
    },
    {
     "data": {
      "image/png": "[encoded data removed]",
      "text/plain": [
       "<Figure size 500x500 with 1 Axes>"
      ]
     },
     "metadata": {},
     "output_type": "display_data"
    }
   ],
   "source": [
    "sns.displot(data=df[df['property_value'] < 5_000_000].sample(frac=.1, random_state=125), x='property_value')"
   ]
  },
  {
   "cell_type": "markdown",
   "id": "599fd40d",
   "metadata": {},
   "source": [
    "Filters:\n",
    "- 1-4 bathrooms\n",
    "- 1-6 bedrooms\n",
    "- age < 105\n",
    "- sqft < 5,000 and > 500\n",
    "- property_value < 1,500,000 and > 50_000"
   ]
  },
  {
   "cell_type": "code",
   "execution_count": 31,
   "id": "edf00b99",
   "metadata": {},
   "outputs": [],
   "source": [
    "# 2 to 5 bedrooms\n",
    "df = df[(df['bedrooms'] >= 2) & (df['bedrooms'] <= 5)]\n",
    "# 1 to 4 bathrooms, not including 1.75\n",
    "df = df[(df['bathrooms'] >= 1) & (df['bathrooms'] <= 4)]\n",
    "# age < 105\n",
    "df = df[df['age'] <= 105]\n",
    "# sqft < 5000\n",
    "df = df[(df['sqft'] >= 500) & (df['sqft'] <= 5000)]\n",
    "# property_value < 1,500,000\n",
    "df = df[(df['property_value'] >= 50_000) & (df['property_value'] <= 1_500_000)]"
   ]
  },
  {
   "cell_type": "code",
   "execution_count": 32,
   "id": "3ae56de8",
   "metadata": {},
   "outputs": [
    {
     "name": "stdout",
     "output_type": "stream",
     "text": [
      "Descriptive Stats:\n",
      "\n"
     ]
    },
    {
     "data": {
      "text/html": [
       "<div>\n",
       "<style scoped>\n",
       "    .dataframe tbody tr th:only-of-type {\n",
       "        vertical-align: middle;\n",
       "    }\n",
       "\n",
       "    .dataframe tbody tr th {\n",
       "        vertical-align: top;\n",
       "    }\n",
       "\n",
       "    .dataframe thead th {\n",
       "        text-align: right;\n",
       "    }\n",
       "</style>\n",
       "<table border=\"1\" class=\"dataframe\">\n",
       "  <thead>\n",
       "    <tr style=\"text-align: right;\">\n",
       "      <th></th>\n",
       "      <th>bathrooms</th>\n",
       "      <th>bedrooms</th>\n",
       "      <th>sqft</th>\n",
       "      <th>age</th>\n",
       "      <th>property_value</th>\n",
       "    </tr>\n",
       "  </thead>\n",
       "  <tbody>\n",
       "    <tr>\n",
       "      <th>count</th>\n",
       "      <td>46097.000000</td>\n",
       "      <td>46097.000000</td>\n",
       "      <td>46097.000000</td>\n",
       "      <td>46097.000000</td>\n",
       "      <td>4.609700e+04</td>\n",
       "    </tr>\n",
       "    <tr>\n",
       "      <th>mean</th>\n",
       "      <td>2.146420</td>\n",
       "      <td>3.234093</td>\n",
       "      <td>1756.485954</td>\n",
       "      <td>53.125323</td>\n",
       "      <td>4.027158e+05</td>\n",
       "    </tr>\n",
       "    <tr>\n",
       "      <th>std</th>\n",
       "      <td>0.750961</td>\n",
       "      <td>0.795751</td>\n",
       "      <td>678.529085</td>\n",
       "      <td>21.276786</td>\n",
       "      <td>2.877449e+05</td>\n",
       "    </tr>\n",
       "    <tr>\n",
       "      <th>min</th>\n",
       "      <td>1.000000</td>\n",
       "      <td>2.000000</td>\n",
       "      <td>152.000000</td>\n",
       "      <td>0.000000</td>\n",
       "      <td>1.000000e+03</td>\n",
       "    </tr>\n",
       "    <tr>\n",
       "      <th>25%</th>\n",
       "      <td>2.000000</td>\n",
       "      <td>3.000000</td>\n",
       "      <td>1253.000000</td>\n",
       "      <td>39.000000</td>\n",
       "      <td>1.804450e+05</td>\n",
       "    </tr>\n",
       "    <tr>\n",
       "      <th>50%</th>\n",
       "      <td>2.000000</td>\n",
       "      <td>3.000000</td>\n",
       "      <td>1602.000000</td>\n",
       "      <td>56.000000</td>\n",
       "      <td>3.483000e+05</td>\n",
       "    </tr>\n",
       "    <tr>\n",
       "      <th>75%</th>\n",
       "      <td>3.000000</td>\n",
       "      <td>4.000000</td>\n",
       "      <td>2123.000000</td>\n",
       "      <td>66.000000</td>\n",
       "      <td>5.500000e+05</td>\n",
       "    </tr>\n",
       "    <tr>\n",
       "      <th>max</th>\n",
       "      <td>4.000000</td>\n",
       "      <td>5.000000</td>\n",
       "      <td>4997.000000</td>\n",
       "      <td>105.000000</td>\n",
       "      <td>1.500000e+06</td>\n",
       "    </tr>\n",
       "  </tbody>\n",
       "</table>\n",
       "</div>"
      ],
      "text/plain": [
       "          bathrooms      bedrooms          sqft           age  property_value\n",
       "count  46097.000000  46097.000000  46097.000000  46097.000000    4.609700e+04\n",
       "mean       2.146420      3.234093   1756.485954     53.125323    4.027158e+05\n",
       "std        0.750961      0.795751    678.529085     21.276786    2.877449e+05\n",
       "min        1.000000      2.000000    152.000000      0.000000    1.000000e+03\n",
       "25%        2.000000      3.000000   1253.000000     39.000000    1.804450e+05\n",
       "50%        2.000000      3.000000   1602.000000     56.000000    3.483000e+05\n",
       "75%        3.000000      4.000000   2123.000000     66.000000    5.500000e+05\n",
       "max        4.000000      5.000000   4997.000000    105.000000    1.500000e+06"
      ]
     },
     "metadata": {},
     "output_type": "display_data"
    },
    {
     "name": "stdout",
     "output_type": "stream",
     "text": [
      "------------------------------------------------------------ \n",
      " BATHROOMS \n",
      "\n",
      "Most Frequent Values:\n",
      "2.0    21126\n",
      "3.0     9611\n",
      "1.0     8492\n",
      "Name: bathrooms, dtype: int64\n"
     ]
    },
    {
     "data": {
      "image/png": "[encoded data removed]",
      "text/plain": [
       "<Figure size 600x200 with 2 Axes>"
      ]
     },
     "metadata": {},
     "output_type": "display_data"
    },
    {
     "name": "stdout",
     "output_type": "stream",
     "text": [
      "\n",
      "------------------------------------------------------------ \n",
      " BEDROOMS \n",
      "\n",
      "Most Frequent Values:\n",
      "3.0    22146\n",
      "4.0    13489\n",
      "2.0     7874\n",
      "Name: bedrooms, dtype: int64\n"
     ]
    },
    {
     "data": {
      "image/png": "[encoded data removed]",
      "text/plain": [
       "<Figure size 600x200 with 2 Axes>"
      ]
     },
     "metadata": {},
     "output_type": "display_data"
    },
    {
     "name": "stdout",
     "output_type": "stream",
     "text": [
      "\n",
      "------------------------------------------------------------ \n",
      " SQFT \n",
      "\n",
      "Most Frequent Values:\n",
      "1120.0    123\n",
      "1200.0    111\n",
      "1080.0     97\n",
      "Name: sqft, dtype: int64\n"
     ]
    },
    {
     "data": {
      "image/png": "[encoded data removed]",
      "text/plain": [
       "<Figure size 600x200 with 2 Axes>"
      ]
     },
     "metadata": {},
     "output_type": "display_data"
    },
    {
     "name": "stdout",
     "output_type": "stream",
     "text": [
      "\n",
      "------------------------------------------------------------ \n",
      " AGE \n",
      "\n",
      "Most Frequent Values:\n",
      "61.0    1810\n",
      "66.0    1524\n",
      "62.0    1441\n",
      "Name: age, dtype: int64\n"
     ]
    },
    {
     "data": {
      "image/png": "[encoded data removed]",
      "text/plain": [
       "<Figure size 600x200 with 2 Axes>"
      ]
     },
     "metadata": {},
     "output_type": "display_data"
    },
    {
     "name": "stdout",
     "output_type": "stream",
     "text": [
      "\n",
      "------------------------------------------------------------ \n",
      " PROPERTY_VALUE \n",
      "\n",
      "Most Frequent Values:\n",
      "455000.0    31\n",
      "600000.0    29\n",
      "500000.0    24\n",
      "Name: property_value, dtype: int64\n"
     ]
    },
    {
     "data": {
      "image/png": "[encoded data removed]",
      "text/plain": [
       "<Figure size 600x200 with 2 Axes>"
      ]
     },
     "metadata": {},
     "output_type": "display_data"
    },
    {
     "name": "stdout",
     "output_type": "stream",
     "text": [
      "\n"
     ]
    }
   ],
   "source": [
    "explore_utils.explore_univariate_continuous_cols(df, ['bathrooms', 'bedrooms',\n",
    "                                                        'sqft', 'age', 'property_value'])"
   ]
  },
  {
   "cell_type": "markdown",
   "id": "fb6c6658",
   "metadata": {},
   "source": [
    "**Make columns with only whole number integers.**"
   ]
  },
  {
   "cell_type": "code",
   "execution_count": 33,
   "id": "d6c556b9",
   "metadata": {},
   "outputs": [
    {
     "data": {
      "text/plain": [
       "False"
      ]
     },
     "execution_count": 33,
     "metadata": {},
     "output_type": "execute_result"
    }
   ],
   "source": [
    "ints_only = lambda x: True if x % 1 == 0 else False\n",
    "df['bathrooms'].apply((lambda x: True if x % 1 == 0 else False)).all()"
   ]
  },
  {
   "cell_type": "code",
   "execution_count": 34,
   "id": "b9a50f20",
   "metadata": {},
   "outputs": [
    {
     "data": {
      "text/plain": [
       "Index(['parcelid', 'id', 'bathrooms', 'bedrooms', 'sqft', 'fips', 'latitude',\n",
       "       'longitude', 'regionidcity', 'regionidzip', 'property_value',\n",
       "       'transaction_date', 'age'],\n",
       "      dtype='object')"
      ]
     },
     "execution_count": 34,
     "metadata": {},
     "output_type": "execute_result"
    }
   ],
   "source": [
    "df.columns"
   ]
  },
  {
   "cell_type": "code",
   "execution_count": 35,
   "id": "b0b874d4",
   "metadata": {},
   "outputs": [
    {
     "name": "stdout",
     "output_type": "stream",
     "text": [
      "parcelid\n",
      "id\n",
      "bedrooms\n",
      "sqft\n",
      "fips\n",
      "latitude\n",
      "longitude\n",
      "regionidcity\n",
      "regionidzip\n",
      "property_value\n",
      "age\n",
      "<class 'pandas.core.frame.DataFrame'>\n",
      "Int64Index: 46097 entries, 52520 to 0\n",
      "Data columns (total 13 columns):\n",
      " #   Column            Non-Null Count  Dtype  \n",
      "---  ------            --------------  -----  \n",
      " 0   parcelid          46097 non-null  int64  \n",
      " 1   id                46097 non-null  int64  \n",
      " 2   bathrooms         46097 non-null  float64\n",
      " 3   bedrooms          46097 non-null  int64  \n",
      " 4   sqft              46097 non-null  int64  \n",
      " 5   fips              46097 non-null  int64  \n",
      " 6   latitude          46097 non-null  int64  \n",
      " 7   longitude         46097 non-null  int64  \n",
      " 8   regionidcity      46097 non-null  int64  \n",
      " 9   regionidzip       46097 non-null  int64  \n",
      " 10  property_value    46097 non-null  int64  \n",
      " 11  transaction_date  46097 non-null  object \n",
      " 12  age               46097 non-null  int64  \n",
      "dtypes: float64(1), int64(11), object(1)\n",
      "memory usage: 4.9+ MB\n"
     ]
    }
   ],
   "source": [
    "# checking which columns only have integers\n",
    "for col in df.columns:\n",
    "    if col == 'transaction_date': continue\n",
    "    if df[col].apply(lambda x: True if x % 1 == 0 else False).all():\n",
    "        print(col)\n",
    "        df[col] = df[col].astype(int)\n",
    "df.info()"
   ]
  },
  {
   "cell_type": "markdown",
   "id": "df667933",
   "metadata": {},
   "source": [
    "**Make column with the county names (for exploration).**"
   ]
  },
  {
   "cell_type": "code",
   "execution_count": 36,
   "id": "fbad506d",
   "metadata": {},
   "outputs": [
    {
     "data": {
      "text/html": [
       "<div>\n",
       "<style scoped>\n",
       "    .dataframe tbody tr th:only-of-type {\n",
       "        vertical-align: middle;\n",
       "    }\n",
       "\n",
       "    .dataframe tbody tr th {\n",
       "        vertical-align: top;\n",
       "    }\n",
       "\n",
       "    .dataframe thead th {\n",
       "        text-align: right;\n",
       "    }\n",
       "</style>\n",
       "<table border=\"1\" class=\"dataframe\">\n",
       "  <thead>\n",
       "    <tr style=\"text-align: right;\">\n",
       "      <th></th>\n",
       "      <th>parcelid</th>\n",
       "      <th>id</th>\n",
       "      <th>bathrooms</th>\n",
       "      <th>bedrooms</th>\n",
       "      <th>sqft</th>\n",
       "      <th>fips</th>\n",
       "      <th>latitude</th>\n",
       "      <th>longitude</th>\n",
       "      <th>regionidcity</th>\n",
       "      <th>regionidzip</th>\n",
       "      <th>property_value</th>\n",
       "      <th>transaction_date</th>\n",
       "      <th>age</th>\n",
       "      <th>county</th>\n",
       "    </tr>\n",
       "  </thead>\n",
       "  <tbody>\n",
       "    <tr>\n",
       "      <th>52520</th>\n",
       "      <td>12826780</td>\n",
       "      <td>1187175</td>\n",
       "      <td>2.0</td>\n",
       "      <td>3</td>\n",
       "      <td>1762</td>\n",
       "      <td>6037</td>\n",
       "      <td>33937685</td>\n",
       "      <td>-117996709</td>\n",
       "      <td>14634</td>\n",
       "      <td>96171</td>\n",
       "      <td>522000</td>\n",
       "      <td>2017-09-25</td>\n",
       "      <td>61</td>\n",
       "      <td>LA</td>\n",
       "    </tr>\n",
       "    <tr>\n",
       "      <th>52519</th>\n",
       "      <td>12773139</td>\n",
       "      <td>1843709</td>\n",
       "      <td>1.0</td>\n",
       "      <td>3</td>\n",
       "      <td>1032</td>\n",
       "      <td>6037</td>\n",
       "      <td>34040895</td>\n",
       "      <td>-118038169</td>\n",
       "      <td>36502</td>\n",
       "      <td>96480</td>\n",
       "      <td>49546</td>\n",
       "      <td>2017-09-21</td>\n",
       "      <td>62</td>\n",
       "      <td>LA</td>\n",
       "    </tr>\n",
       "    <tr>\n",
       "      <th>52518</th>\n",
       "      <td>17239384</td>\n",
       "      <td>2968375</td>\n",
       "      <td>2.0</td>\n",
       "      <td>4</td>\n",
       "      <td>1612</td>\n",
       "      <td>6111</td>\n",
       "      <td>34300140</td>\n",
       "      <td>-118706327</td>\n",
       "      <td>27110</td>\n",
       "      <td>97116</td>\n",
       "      <td>67205</td>\n",
       "      <td>2017-09-21</td>\n",
       "      <td>52</td>\n",
       "      <td>Ventura</td>\n",
       "    </tr>\n",
       "  </tbody>\n",
       "</table>\n",
       "</div>"
      ],
      "text/plain": [
       "       parcelid       id  bathrooms  bedrooms  sqft  fips  latitude  \\\n",
       "52520  12826780  1187175        2.0         3  1762  6037  33937685   \n",
       "52519  12773139  1843709        1.0         3  1032  6037  34040895   \n",
       "52518  17239384  2968375        2.0         4  1612  6111  34300140   \n",
       "\n",
       "       longitude  regionidcity  regionidzip  property_value transaction_date  \\\n",
       "52520 -117996709         14634        96171          522000       2017-09-25   \n",
       "52519 -118038169         36502        96480           49546       2017-09-21   \n",
       "52518 -118706327         27110        97116           67205       2017-09-21   \n",
       "\n",
       "       age   county  \n",
       "52520   61       LA  \n",
       "52519   62       LA  \n",
       "52518   52  Ventura  "
      ]
     },
     "execution_count": 36,
     "metadata": {},
     "output_type": "execute_result"
    }
   ],
   "source": [
    "df['county'] = df['fips'].replace({6037:'LA',\n",
    "                                  6059:'Orange',\n",
    "                                  6111:'Ventura'})\n",
    "df.head(3)"
   ]
  },
  {
   "cell_type": "code",
   "execution_count": 37,
   "id": "50ac92fd",
   "metadata": {},
   "outputs": [
    {
     "name": "stdout",
     "output_type": "stream",
     "text": [
      "46097\n",
      "46097\n",
      "7\n",
      "4\n",
      "3395\n",
      "3\n",
      "44703\n",
      "44913\n",
      "175\n",
      "375\n",
      "34118\n",
      "254\n",
      "106\n",
      "3\n"
     ]
    }
   ],
   "source": [
    "for col in df.columns:\n",
    "    print(df[col].nunique())"
   ]
  },
  {
   "cell_type": "markdown",
   "id": "05554bcd",
   "metadata": {},
   "source": [
    "Encode categoricals"
   ]
  },
  {
   "cell_type": "code",
   "execution_count": 38,
   "id": "22e23923",
   "metadata": {},
   "outputs": [],
   "source": [
    "df = pd.concat([df, pd.get_dummies(df[['bathrooms', 'bedrooms', 'county']].astype(str))],\n",
    "               axis=1).drop(columns=['fips'])"
   ]
  },
  {
   "cell_type": "code",
   "execution_count": null,
   "id": "309af4b9",
   "metadata": {},
   "outputs": [],
   "source": []
  },
  {
   "cell_type": "code",
   "execution_count": 48,
   "id": "33bcead9",
   "metadata": {},
   "outputs": [],
   "source": [
    "def prep_zillow(df = get_sql_data( '''\n",
    "                                    SELECT p.parcelid, p.id, p.bathroomcnt, p.bedroomcnt,\n",
    "                                            p.calculatedfinishedsquarefeet, p.fips,\n",
    "                                            p.latitude, p.longitude, p.yearbuilt, p.regionidcity,\n",
    "                                            p.regionidzip, p.taxvaluedollarcnt, pred.transactiondate\n",
    "                                    FROM zillow.properties_2017 AS p\n",
    "                                        JOIN zillow.predictions_2017 AS pred USING (parcelid)\n",
    "                                    WHERE (p.propertylandusetypeid IN (261, 262, 263, 264, 279));\n",
    "                                    ''',\n",
    "                                  'zillow',\n",
    "                                  'data/zillow_raw.csv'),\n",
    "                filename='data/zillow.csv'):\n",
    "    '''\n",
    "        This function takes the raw zillow data and transforms data for exploration and modeling\n",
    "    '''\n",
    "    # keep only 2017 transactions\n",
    "    df = df[df['transactiondate'].str.startswith('2017')]\n",
    "    \n",
    "    # drop duplicate home id's. sort by transactiondate to keep most recent transaction date\n",
    "    df = df.sort_values(by=['transactiondate'], ascending=False)\\\n",
    "           .drop_duplicates(['id'])\n",
    "    \n",
    "    # drop duplicate home locations. sort by transactiondate to keep most recent transaction date\n",
    "    df = df.sort_values(by=['transactiondate'], ascending=False)\\\n",
    "           .drop_duplicates(['latitude','longitude'])\n",
    "\n",
    "    # rename columns\n",
    "    df.columns = ['parcelid', 'id', 'bathrooms', 'bedrooms', 'sqft', 'fips', 'latitude',\n",
    "                   'longitude', 'year_built', 'regionidcity', 'regionidzip',\n",
    "                   'property_value', 'transaction_date']\n",
    "    \n",
    "    # drop rows with missing values\n",
    "    df = df.dropna()\n",
    "    \n",
    "    # change year_built to age\n",
    "    df['age'] = df['year_built'].max() - df['year_built']\n",
    "    df = df.drop(columns=['year_built'])\n",
    "    \n",
    "    # filter data\n",
    "    # 2 to 5 bedrooms\n",
    "    df = df[(df['bedrooms'] >= 2) & (df['bedrooms'] <= 5)]\n",
    "    # 1 to 4 bathrooms, not including 1.75\n",
    "    df = df[(df['bathrooms'] >= 1) & (df['bathrooms'] <= 4)]\n",
    "    # age < 105\n",
    "    df = df[df['age'] <= 105]\n",
    "    # sqft < 5000 and > 500\n",
    "    df = df[(df['sqft'] >= 500) & (df['sqft'] <= 5000)]\n",
    "    # property_value < 1,500,000 and > 50,000\n",
    "    df = df[(df['property_value'] >= 50_000) & (df['property_value'] <= 1_500_000)]\n",
    "    \n",
    "    # change whole number float columns to integer data types\n",
    "    for col in df.columns:\n",
    "        if col == 'transaction_date': continue\n",
    "        if df[col].apply(lambda x: True if x % 1 == 0 else False).all():\n",
    "            df[col] = df[col].astype(int)\n",
    "\n",
    "    # add county name column\n",
    "    df['county'] = df['fips'].replace({6037:'LA',\n",
    "                                  6059:'Orange',\n",
    "                                  6111:'Ventura'})\n",
    "    \n",
    "    # encode categoricals and drop county code columns\n",
    "    df = pd.concat([df, pd.get_dummies(df[['bathrooms', 'bedrooms', 'county']].astype(str))],\n",
    "               axis=1).drop(columns=['fips'])\n",
    "    \n",
    "    # save csv\n",
    "    df.to_csv(filename, index=False)\n",
    "    \n",
    "    return df\n",
    "    "
   ]
  },
  {
   "cell_type": "code",
   "execution_count": null,
   "id": "ad390857",
   "metadata": {},
   "outputs": [],
   "source": [
    "df = prep_zillow()"
   ]
  },
  {
   "cell_type": "code",
   "execution_count": 49,
   "id": "d7baacae",
   "metadata": {},
   "outputs": [
    {
     "data": {
      "text/html": [
       "<div>\n",
       "<style scoped>\n",
       "    .dataframe tbody tr th:only-of-type {\n",
       "        vertical-align: middle;\n",
       "    }\n",
       "\n",
       "    .dataframe tbody tr th {\n",
       "        vertical-align: top;\n",
       "    }\n",
       "\n",
       "    .dataframe thead th {\n",
       "        text-align: right;\n",
       "    }\n",
       "</style>\n",
       "<table border=\"1\" class=\"dataframe\">\n",
       "  <thead>\n",
       "    <tr style=\"text-align: right;\">\n",
       "      <th></th>\n",
       "      <th>parcelid</th>\n",
       "      <th>id</th>\n",
       "      <th>bathrooms</th>\n",
       "      <th>bedrooms</th>\n",
       "      <th>sqft</th>\n",
       "      <th>latitude</th>\n",
       "      <th>longitude</th>\n",
       "      <th>regionidcity</th>\n",
       "      <th>regionidzip</th>\n",
       "      <th>property_value</th>\n",
       "      <th>transaction_date</th>\n",
       "      <th>age</th>\n",
       "      <th>county</th>\n",
       "      <th>bathrooms_1.0</th>\n",
       "      <th>bathrooms_1.5</th>\n",
       "      <th>bathrooms_2.0</th>\n",
       "      <th>bathrooms_2.5</th>\n",
       "      <th>bathrooms_3.0</th>\n",
       "      <th>bathrooms_3.5</th>\n",
       "      <th>bathrooms_4.0</th>\n",
       "      <th>bedrooms_2</th>\n",
       "      <th>bedrooms_3</th>\n",
       "      <th>bedrooms_4</th>\n",
       "      <th>bedrooms_5</th>\n",
       "      <th>county_LA</th>\n",
       "      <th>county_Orange</th>\n",
       "      <th>county_Ventura</th>\n",
       "    </tr>\n",
       "  </thead>\n",
       "  <tbody>\n",
       "    <tr>\n",
       "      <th>52520</th>\n",
       "      <td>12826780</td>\n",
       "      <td>1187175</td>\n",
       "      <td>2.0</td>\n",
       "      <td>3</td>\n",
       "      <td>1762</td>\n",
       "      <td>33937685</td>\n",
       "      <td>-117996709</td>\n",
       "      <td>14634</td>\n",
       "      <td>96171</td>\n",
       "      <td>522000</td>\n",
       "      <td>2017-09-25</td>\n",
       "      <td>61</td>\n",
       "      <td>LA</td>\n",
       "      <td>0</td>\n",
       "      <td>0</td>\n",
       "      <td>1</td>\n",
       "      <td>0</td>\n",
       "      <td>0</td>\n",
       "      <td>0</td>\n",
       "      <td>0</td>\n",
       "      <td>0</td>\n",
       "      <td>1</td>\n",
       "      <td>0</td>\n",
       "      <td>0</td>\n",
       "      <td>1</td>\n",
       "      <td>0</td>\n",
       "      <td>0</td>\n",
       "    </tr>\n",
       "    <tr>\n",
       "      <th>52518</th>\n",
       "      <td>17239384</td>\n",
       "      <td>2968375</td>\n",
       "      <td>2.0</td>\n",
       "      <td>4</td>\n",
       "      <td>1612</td>\n",
       "      <td>34300140</td>\n",
       "      <td>-118706327</td>\n",
       "      <td>27110</td>\n",
       "      <td>97116</td>\n",
       "      <td>67205</td>\n",
       "      <td>2017-09-21</td>\n",
       "      <td>52</td>\n",
       "      <td>Ventura</td>\n",
       "      <td>0</td>\n",
       "      <td>0</td>\n",
       "      <td>1</td>\n",
       "      <td>0</td>\n",
       "      <td>0</td>\n",
       "      <td>0</td>\n",
       "      <td>0</td>\n",
       "      <td>0</td>\n",
       "      <td>0</td>\n",
       "      <td>1</td>\n",
       "      <td>0</td>\n",
       "      <td>0</td>\n",
       "      <td>0</td>\n",
       "      <td>1</td>\n",
       "    </tr>\n",
       "    <tr>\n",
       "      <th>52519</th>\n",
       "      <td>12773139</td>\n",
       "      <td>1843709</td>\n",
       "      <td>1.0</td>\n",
       "      <td>3</td>\n",
       "      <td>1032</td>\n",
       "      <td>34040895</td>\n",
       "      <td>-118038169</td>\n",
       "      <td>36502</td>\n",
       "      <td>96480</td>\n",
       "      <td>49546</td>\n",
       "      <td>2017-09-21</td>\n",
       "      <td>62</td>\n",
       "      <td>LA</td>\n",
       "      <td>1</td>\n",
       "      <td>0</td>\n",
       "      <td>0</td>\n",
       "      <td>0</td>\n",
       "      <td>0</td>\n",
       "      <td>0</td>\n",
       "      <td>0</td>\n",
       "      <td>0</td>\n",
       "      <td>1</td>\n",
       "      <td>0</td>\n",
       "      <td>0</td>\n",
       "      <td>1</td>\n",
       "      <td>0</td>\n",
       "      <td>0</td>\n",
       "    </tr>\n",
       "    <tr>\n",
       "      <th>52517</th>\n",
       "      <td>11000655</td>\n",
       "      <td>673515</td>\n",
       "      <td>2.0</td>\n",
       "      <td>2</td>\n",
       "      <td>1286</td>\n",
       "      <td>34245368</td>\n",
       "      <td>-118282383</td>\n",
       "      <td>12447</td>\n",
       "      <td>96284</td>\n",
       "      <td>354621</td>\n",
       "      <td>2017-09-20</td>\n",
       "      <td>76</td>\n",
       "      <td>LA</td>\n",
       "      <td>0</td>\n",
       "      <td>0</td>\n",
       "      <td>1</td>\n",
       "      <td>0</td>\n",
       "      <td>0</td>\n",
       "      <td>0</td>\n",
       "      <td>0</td>\n",
       "      <td>1</td>\n",
       "      <td>0</td>\n",
       "      <td>0</td>\n",
       "      <td>0</td>\n",
       "      <td>1</td>\n",
       "      <td>0</td>\n",
       "      <td>0</td>\n",
       "    </tr>\n",
       "    <tr>\n",
       "      <th>52508</th>\n",
       "      <td>12410050</td>\n",
       "      <td>2900077</td>\n",
       "      <td>1.0</td>\n",
       "      <td>2</td>\n",
       "      <td>1023</td>\n",
       "      <td>33880374</td>\n",
       "      <td>-118112653</td>\n",
       "      <td>44116</td>\n",
       "      <td>96208</td>\n",
       "      <td>222739</td>\n",
       "      <td>2017-09-19</td>\n",
       "      <td>60</td>\n",
       "      <td>LA</td>\n",
       "      <td>1</td>\n",
       "      <td>0</td>\n",
       "      <td>0</td>\n",
       "      <td>0</td>\n",
       "      <td>0</td>\n",
       "      <td>0</td>\n",
       "      <td>0</td>\n",
       "      <td>1</td>\n",
       "      <td>0</td>\n",
       "      <td>0</td>\n",
       "      <td>0</td>\n",
       "      <td>1</td>\n",
       "      <td>0</td>\n",
       "      <td>0</td>\n",
       "    </tr>\n",
       "    <tr>\n",
       "      <th>...</th>\n",
       "      <td>...</td>\n",
       "      <td>...</td>\n",
       "      <td>...</td>\n",
       "      <td>...</td>\n",
       "      <td>...</td>\n",
       "      <td>...</td>\n",
       "      <td>...</td>\n",
       "      <td>...</td>\n",
       "      <td>...</td>\n",
       "      <td>...</td>\n",
       "      <td>...</td>\n",
       "      <td>...</td>\n",
       "      <td>...</td>\n",
       "      <td>...</td>\n",
       "      <td>...</td>\n",
       "      <td>...</td>\n",
       "      <td>...</td>\n",
       "      <td>...</td>\n",
       "      <td>...</td>\n",
       "      <td>...</td>\n",
       "      <td>...</td>\n",
       "      <td>...</td>\n",
       "      <td>...</td>\n",
       "      <td>...</td>\n",
       "      <td>...</td>\n",
       "      <td>...</td>\n",
       "      <td>...</td>\n",
       "    </tr>\n",
       "    <tr>\n",
       "      <th>5</th>\n",
       "      <td>12069064</td>\n",
       "      <td>870991</td>\n",
       "      <td>1.0</td>\n",
       "      <td>2</td>\n",
       "      <td>738</td>\n",
       "      <td>34149214</td>\n",
       "      <td>-118239357</td>\n",
       "      <td>45457</td>\n",
       "      <td>96325</td>\n",
       "      <td>218552</td>\n",
       "      <td>2017-01-01</td>\n",
       "      <td>94</td>\n",
       "      <td>LA</td>\n",
       "      <td>1</td>\n",
       "      <td>0</td>\n",
       "      <td>0</td>\n",
       "      <td>0</td>\n",
       "      <td>0</td>\n",
       "      <td>0</td>\n",
       "      <td>0</td>\n",
       "      <td>1</td>\n",
       "      <td>0</td>\n",
       "      <td>0</td>\n",
       "      <td>0</td>\n",
       "      <td>1</td>\n",
       "      <td>0</td>\n",
       "      <td>0</td>\n",
       "    </tr>\n",
       "    <tr>\n",
       "      <th>4</th>\n",
       "      <td>12095076</td>\n",
       "      <td>781532</td>\n",
       "      <td>3.0</td>\n",
       "      <td>4</td>\n",
       "      <td>2962</td>\n",
       "      <td>34145202</td>\n",
       "      <td>-118179824</td>\n",
       "      <td>47019</td>\n",
       "      <td>96293</td>\n",
       "      <td>773303</td>\n",
       "      <td>2017-01-01</td>\n",
       "      <td>66</td>\n",
       "      <td>LA</td>\n",
       "      <td>0</td>\n",
       "      <td>0</td>\n",
       "      <td>0</td>\n",
       "      <td>0</td>\n",
       "      <td>1</td>\n",
       "      <td>0</td>\n",
       "      <td>0</td>\n",
       "      <td>0</td>\n",
       "      <td>0</td>\n",
       "      <td>1</td>\n",
       "      <td>0</td>\n",
       "      <td>1</td>\n",
       "      <td>0</td>\n",
       "      <td>0</td>\n",
       "    </tr>\n",
       "    <tr>\n",
       "      <th>3</th>\n",
       "      <td>12177905</td>\n",
       "      <td>2288172</td>\n",
       "      <td>3.0</td>\n",
       "      <td>4</td>\n",
       "      <td>2376</td>\n",
       "      <td>34245180</td>\n",
       "      <td>-118240722</td>\n",
       "      <td>396551</td>\n",
       "      <td>96330</td>\n",
       "      <td>145143</td>\n",
       "      <td>2017-01-01</td>\n",
       "      <td>46</td>\n",
       "      <td>LA</td>\n",
       "      <td>0</td>\n",
       "      <td>0</td>\n",
       "      <td>0</td>\n",
       "      <td>0</td>\n",
       "      <td>1</td>\n",
       "      <td>0</td>\n",
       "      <td>0</td>\n",
       "      <td>0</td>\n",
       "      <td>0</td>\n",
       "      <td>1</td>\n",
       "      <td>0</td>\n",
       "      <td>1</td>\n",
       "      <td>0</td>\n",
       "      <td>0</td>\n",
       "    </tr>\n",
       "    <tr>\n",
       "      <th>2</th>\n",
       "      <td>14186244</td>\n",
       "      <td>11677</td>\n",
       "      <td>2.0</td>\n",
       "      <td>3</td>\n",
       "      <td>1243</td>\n",
       "      <td>33886168</td>\n",
       "      <td>-117823170</td>\n",
       "      <td>21412</td>\n",
       "      <td>97078</td>\n",
       "      <td>564778</td>\n",
       "      <td>2017-01-01</td>\n",
       "      <td>54</td>\n",
       "      <td>Orange</td>\n",
       "      <td>0</td>\n",
       "      <td>0</td>\n",
       "      <td>1</td>\n",
       "      <td>0</td>\n",
       "      <td>0</td>\n",
       "      <td>0</td>\n",
       "      <td>0</td>\n",
       "      <td>0</td>\n",
       "      <td>1</td>\n",
       "      <td>0</td>\n",
       "      <td>0</td>\n",
       "      <td>0</td>\n",
       "      <td>1</td>\n",
       "      <td>0</td>\n",
       "    </tr>\n",
       "    <tr>\n",
       "      <th>0</th>\n",
       "      <td>14297519</td>\n",
       "      <td>1727539</td>\n",
       "      <td>3.5</td>\n",
       "      <td>4</td>\n",
       "      <td>3100</td>\n",
       "      <td>33634931</td>\n",
       "      <td>-117869207</td>\n",
       "      <td>53571</td>\n",
       "      <td>96978</td>\n",
       "      <td>1023282</td>\n",
       "      <td>2017-01-01</td>\n",
       "      <td>18</td>\n",
       "      <td>Orange</td>\n",
       "      <td>0</td>\n",
       "      <td>0</td>\n",
       "      <td>0</td>\n",
       "      <td>0</td>\n",
       "      <td>0</td>\n",
       "      <td>1</td>\n",
       "      <td>0</td>\n",
       "      <td>0</td>\n",
       "      <td>0</td>\n",
       "      <td>1</td>\n",
       "      <td>0</td>\n",
       "      <td>0</td>\n",
       "      <td>1</td>\n",
       "      <td>0</td>\n",
       "    </tr>\n",
       "  </tbody>\n",
       "</table>\n",
       "<p>46097 rows × 27 columns</p>\n",
       "</div>"
      ],
      "text/plain": [
       "       parcelid       id  bathrooms  bedrooms  sqft  latitude  longitude  \\\n",
       "52520  12826780  1187175        2.0         3  1762  33937685 -117996709   \n",
       "52518  17239384  2968375        2.0         4  1612  34300140 -118706327   \n",
       "52519  12773139  1843709        1.0         3  1032  34040895 -118038169   \n",
       "52517  11000655   673515        2.0         2  1286  34245368 -118282383   \n",
       "52508  12410050  2900077        1.0         2  1023  33880374 -118112653   \n",
       "...         ...      ...        ...       ...   ...       ...        ...   \n",
       "5      12069064   870991        1.0         2   738  34149214 -118239357   \n",
       "4      12095076   781532        3.0         4  2962  34145202 -118179824   \n",
       "3      12177905  2288172        3.0         4  2376  34245180 -118240722   \n",
       "2      14186244    11677        2.0         3  1243  33886168 -117823170   \n",
       "0      14297519  1727539        3.5         4  3100  33634931 -117869207   \n",
       "\n",
       "       regionidcity  regionidzip  property_value transaction_date  age  \\\n",
       "52520         14634        96171          522000       2017-09-25   61   \n",
       "52518         27110        97116           67205       2017-09-21   52   \n",
       "52519         36502        96480           49546       2017-09-21   62   \n",
       "52517         12447        96284          354621       2017-09-20   76   \n",
       "52508         44116        96208          222739       2017-09-19   60   \n",
       "...             ...          ...             ...              ...  ...   \n",
       "5             45457        96325          218552       2017-01-01   94   \n",
       "4             47019        96293          773303       2017-01-01   66   \n",
       "3            396551        96330          145143       2017-01-01   46   \n",
       "2             21412        97078          564778       2017-01-01   54   \n",
       "0             53571        96978         1023282       2017-01-01   18   \n",
       "\n",
       "        county  bathrooms_1.0  bathrooms_1.5  bathrooms_2.0  bathrooms_2.5  \\\n",
       "52520       LA              0              0              1              0   \n",
       "52518  Ventura              0              0              1              0   \n",
       "52519       LA              1              0              0              0   \n",
       "52517       LA              0              0              1              0   \n",
       "52508       LA              1              0              0              0   \n",
       "...        ...            ...            ...            ...            ...   \n",
       "5           LA              1              0              0              0   \n",
       "4           LA              0              0              0              0   \n",
       "3           LA              0              0              0              0   \n",
       "2       Orange              0              0              1              0   \n",
       "0       Orange              0              0              0              0   \n",
       "\n",
       "       bathrooms_3.0  bathrooms_3.5  bathrooms_4.0  bedrooms_2  bedrooms_3  \\\n",
       "52520              0              0              0           0           1   \n",
       "52518              0              0              0           0           0   \n",
       "52519              0              0              0           0           1   \n",
       "52517              0              0              0           1           0   \n",
       "52508              0              0              0           1           0   \n",
       "...              ...            ...            ...         ...         ...   \n",
       "5                  0              0              0           1           0   \n",
       "4                  1              0              0           0           0   \n",
       "3                  1              0              0           0           0   \n",
       "2                  0              0              0           0           1   \n",
       "0                  0              1              0           0           0   \n",
       "\n",
       "       bedrooms_4  bedrooms_5  county_LA  county_Orange  county_Ventura  \n",
       "52520           0           0          1              0               0  \n",
       "52518           1           0          0              0               1  \n",
       "52519           0           0          1              0               0  \n",
       "52517           0           0          1              0               0  \n",
       "52508           0           0          1              0               0  \n",
       "...           ...         ...        ...            ...             ...  \n",
       "5               0           0          1              0               0  \n",
       "4               1           0          1              0               0  \n",
       "3               1           0          1              0               0  \n",
       "2               0           0          0              1               0  \n",
       "0               1           0          0              1               0  \n",
       "\n",
       "[46097 rows x 27 columns]"
      ]
     },
     "execution_count": 49,
     "metadata": {},
     "output_type": "execute_result"
    }
   ],
   "source": [
    "df"
   ]
  },
  {
   "cell_type": "code",
   "execution_count": null,
   "id": "14490874",
   "metadata": {},
   "outputs": [],
   "source": []
  },
  {
   "cell_type": "code",
   "execution_count": null,
   "id": "5cbf246c",
   "metadata": {},
   "outputs": [],
   "source": []
  },
  {
   "cell_type": "markdown",
   "id": "6395e1b3",
   "metadata": {},
   "source": [
    "Summary of data transformations:\n",
    "- Dropped redundant columns (`['calculatedbathnbr', 'fullbathcnt', 'roomcnt', 'regionidcounty']`) and columns with lots of missing values (`['numberofstories', 'regionidneighborhood']`)\n",
    "- For homes with duplicate locations and id's, I kept homes with most recent transactions.\n",
    "- Renamed columns\n",
    "- Dropped rows with missing values\n",
    "- Filtered data/outliers:\n",
    "    - Only 2017 transaction dates\n",
    "    - 1-4 bathrooms\n",
    "    - 1-6 bedrooms\n",
    "    - age < 105\n",
    "    - sqft < 5,000 and > 500\n",
    "    - property_value < 1,500,000 and > 50_000\n",
    "- Changed columns. with only integers to `int` data types\n",
    "- Made county with column names\n",
    "- Encoded categorical columns: count, bedrooms, bathrooms\n",
    "- Generalized transformations into a function and saved data."
   ]
  },
  {
   "cell_type": "code",
   "execution_count": null,
   "id": "fc38c549",
   "metadata": {},
   "outputs": [],
   "source": []
  },
  {
   "cell_type": "markdown",
   "id": "effdddcd",
   "metadata": {},
   "source": [
    "# Explore"
   ]
  },
  {
   "cell_type": "markdown",
   "id": "3abcb608",
   "metadata": {},
   "source": [
    "#### For continuous to categorical relationships"
   ]
  },
  {
   "cell_type": "code",
   "execution_count": 25,
   "id": "c7b91bc8",
   "metadata": {},
   "outputs": [
    {
     "data": {
      "text/plain": [
       "<Axes: xlabel='fips', ylabel='taxvaluedollarcnt'>"
      ]
     },
     "execution_count": 25,
     "metadata": {},
     "output_type": "execute_result"
    },
    {
     "data": {
      "image/png": "[encoded data removed]",
      "text/plain": [
       "<Figure size 640x480 with 1 Axes>"
      ]
     },
     "metadata": {},
     "output_type": "display_data"
    }
   ],
   "source": [
    "sns.boxplot(data=df[df['taxvaluedollarcnt']<.2e7],\n",
    "            x='fips', y='taxvaluedollarcnt')"
   ]
  },
  {
   "cell_type": "code",
   "execution_count": 26,
   "id": "c8ec3c8e",
   "metadata": {},
   "outputs": [
    {
     "data": {
      "text/plain": [
       "<Axes: xlabel='fips', ylabel='taxvaluedollarcnt'>"
      ]
     },
     "execution_count": 26,
     "metadata": {},
     "output_type": "execute_result"
    },
    {
     "data": {
      "image/png": "[encoded data removed]",
      "text/plain": [
       "<Figure size 640x480 with 1 Axes>"
      ]
     },
     "metadata": {},
     "output_type": "display_data"
    }
   ],
   "source": [
    "sns.stripplot(data=df[df['taxvaluedollarcnt']<.2e7],\n",
    "              x='fips', y='taxvaluedollarcnt',\n",
    "              hue='fips', jitter=.3,\n",
    "                  size=1.5, legend=False)"
   ]
  },
  {
   "cell_type": "code",
   "execution_count": 20,
   "id": "ca02e149",
   "metadata": {},
   "outputs": [
    {
     "data": {
      "text/plain": [
       "<Axes: xlabel='taxvaluedollarcnt', ylabel='Count'>"
      ]
     },
     "execution_count": 20,
     "metadata": {},
     "output_type": "execute_result"
    },
    {
     "data": {
      "image/png": "[encoded data removed]",
      "text/plain": [
       "<Figure size 640x480 with 1 Axes>"
      ]
     },
     "metadata": {},
     "output_type": "display_data"
    }
   ],
   "source": [
    "sns.histplot(data=df[df['taxvaluedollarcnt']<.2e7],\n",
    "             x='taxvaluedollarcnt', hue='fips')"
   ]
  },
  {
   "cell_type": "markdown",
   "id": "0250fd8f",
   "metadata": {},
   "source": [
    "#### For continuous to continuous relationships\n",
    "\n",
    "- use scatterplots.\n",
    "- use correlation heatmap to show correlated features.\n",
    "- heatmaps can be fine but may not be recommended for non-technical audiences"
   ]
  },
  {
   "cell_type": "code",
   "execution_count": 44,
   "id": "adee1e10",
   "metadata": {},
   "outputs": [
    {
     "data": {
      "text/plain": [
       "<Axes: xlabel='taxamount', ylabel='taxvaluedollarcnt'>"
      ]
     },
     "execution_count": 44,
     "metadata": {},
     "output_type": "execute_result"
    },
    {
     "data": {
      "image/png": "[encoded data removed]",
      "text/plain": [
       "<Figure size 640x480 with 1 Axes>"
      ]
     },
     "metadata": {},
     "output_type": "display_data"
    }
   ],
   "source": [
    "target = 'taxvaluedollarcnt'\n",
    "col = 'taxamount'\n",
    "\n",
    "sns.scatterplot(data=df, y=target, x=col)"
   ]
  },
  {
   "cell_type": "code",
   "execution_count": 43,
   "id": "47364ebb",
   "metadata": {},
   "outputs": [
    {
     "name": "stderr",
     "output_type": "stream",
     "text": [
      "/var/folders/hg/jdcrdn3s5s3ddyrj47p9s7lh0000gn/T/ipykernel_1736/236473897.py:1: FutureWarning: The default value of numeric_only in DataFrame.corr is deprecated. In a future version, it will default to False. Select only valid columns or specify the value of numeric_only to silence this warning.\n",
      "  mask = np.triu(np.ones_like(df.corr().iloc[1:,:-1]),k=1)\n",
      "/var/folders/hg/jdcrdn3s5s3ddyrj47p9s7lh0000gn/T/ipykernel_1736/236473897.py:2: FutureWarning: The default value of numeric_only in DataFrame.corr is deprecated. In a future version, it will default to False. Select only valid columns or specify the value of numeric_only to silence this warning.\n",
      "  sns.heatmap(df.corr().iloc[1:,:-1], mask=mask, linewidths=.5, annot=True,\n"
     ]
    },
    {
     "data": {
      "text/plain": [
       "<Axes: >"
      ]
     },
     "execution_count": 43,
     "metadata": {},
     "output_type": "execute_result"
    },
    {
     "data": {
      "image/png": "[encoded data removed]",
      "text/plain": [
       "<Figure size 640x480 with 2 Axes>"
      ]
     },
     "metadata": {},
     "output_type": "display_data"
    }
   ],
   "source": [
    "mask = np.triu(np.ones_like(df.corr().iloc[1:,:-1]),k=1)\n",
    "sns.heatmap(df.corr().iloc[1:,:-1], mask=mask, linewidths=.5, annot=True,\n",
    "                     cmap='RdYlGn', fmt='.2f',\n",
    "                     vmin=-1, vmax=1, square=True)"
   ]
  },
  {
   "cell_type": "code",
   "execution_count": null,
   "id": "4a9cfcba",
   "metadata": {},
   "outputs": [],
   "source": [
    "def explore_bivariate_cat_to_cat_target(df, target, cont_cols=None):\n",
    "    if cont_cols == None:\n",
    "        cont_cols = get_cat_and_cont_cols(df)[1]\n",
    "        \n",
    "    for col in cont_cols:\n",
    "        plot_bivariate_cont_to_cont_target_charts(df, target, col)\n",
    "        \n",
    "    mask = np.triu(np.ones_like(df.corr().iloc[1:,:-1]),k=1)\n",
    "    sns.heatmap(df.corr().iloc[1:,:-1], mask=mask, linewidths=.5, annot=True,\n",
    "                     cmap='RdYlGn', fmt='.2f',\n",
    "                     vmin=-1, vmax=1, square=True)\n",
    "        \n",
    "def plot_bivariate_cont_to_cont_target_charts(df, target, col):\n",
    "    sns.set_style('darkgrid')\n",
    "    sns.lmplot(data=df[df['taxamount']<4_000],\n",
    "           y=target, x=col,\n",
    "           scatter_kws={'s': 10, 'alpha':.5},\n",
    "           line_kws={'linewidth': 1, 'alpha':.5})"
   ]
  },
  {
   "cell_type": "code",
   "execution_count": 59,
   "id": "227cb67c",
   "metadata": {},
   "outputs": [
    {
     "data": {
      "text/plain": [
       "<seaborn.axisgrid.FacetGrid at 0x7fcfb21478e0>"
      ]
     },
     "execution_count": 59,
     "metadata": {},
     "output_type": "execute_result"
    },
    {
     "data": {
      "image/png": "[encoded data removed]",
      "text/plain": [
       "<Figure size 500x500 with 1 Axes>"
      ]
     },
     "metadata": {},
     "output_type": "display_data"
    }
   ],
   "source": [
    "target = 'taxvaluedollarcnt'\n",
    "col = 'taxamount'\n",
    "\n",
    "sns.lmplot(data=df[df['taxamount']<4_000],\n",
    "           y=target, x=col,\n",
    "           sca tter_kws={'s': 10, 'alpha':.5},\n",
    "           line_kws={'linewidth': 1, 'alpha':.5})"
   ]
  },
  {
   "cell_type": "code",
   "execution_count": null,
   "id": "60695525",
   "metadata": {},
   "outputs": [],
   "source": []
  }
 ],
 "metadata": {
  "kernelspec": {
   "display_name": "Python 3 (ipykernel)",
   "language": "python",
   "name": "python3"
  },
  "language_info": {
   "codemirror_mode": {
    "name": "ipython",
    "version": 3
   },
   "file_extension": ".py",
   "mimetype": "text/x-python",
   "name": "python",
   "nbconvert_exporter": "python",
   "pygments_lexer": "ipython3",
   "version": "3.10.9"
  },
  "varInspector": {
   "cols": {
    "lenName": 16,
    "lenType": 16,
    "lenVar": 40
   },
   "kernels_config": {
    "python": {
     "delete_cmd_postfix": "",
     "delete_cmd_prefix": "del ",
     "library": "var_list.py",
     "varRefreshCmd": "print(var_dic_list())"
    },
    "r": {
     "delete_cmd_postfix": ") ",
     "delete_cmd_prefix": "rm(",
     "library": "var_list.r",
     "varRefreshCmd": "cat(var_dic_list()) "
    }
   },
   "types_to_exclude": [
    "module",
    "function",
    "builtin_function_or_method",
    "instance",
    "_Feature"
   ],
   "window_display": false
  }
 },
 "nbformat": 4,
 "nbformat_minor": 5
}
